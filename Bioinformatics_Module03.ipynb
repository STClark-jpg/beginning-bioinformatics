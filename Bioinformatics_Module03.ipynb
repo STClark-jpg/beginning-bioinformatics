{
  "nbformat": 4,
  "nbformat_minor": 0,
  "metadata": {
    "colab": {
      "provenance": [],
      "authorship_tag": "ABX9TyOOOixlWlgVp5SoxIzbV+fr",
      "include_colab_link": true
    },
    "kernelspec": {
      "name": "python3",
      "display_name": "Python 3"
    },
    "language_info": {
      "name": "python"
    }
  },
  "cells": [
    {
      "cell_type": "markdown",
      "metadata": {
        "id": "view-in-github",
        "colab_type": "text"
      },
      "source": [
        "<a href=\"https://colab.research.google.com/github/STClark-jpg/beginning-bioinformatics/blob/main/Bioinformatics_Module03.ipynb\" target=\"_parent\"><img src=\"https://colab.research.google.com/assets/colab-badge.svg\" alt=\"Open In Colab\"/></a>"
      ]
    },
    {
      "cell_type": "code",
      "execution_count": null,
      "metadata": {
        "colab": {
          "base_uri": "https://localhost:8080/"
        },
        "id": "EG_x0zsGCoA4",
        "outputId": "71a878b0-83f2-46df-819f-49b91965d57e"
      },
      "outputs": [
        {
          "output_type": "stream",
          "name": "stdout",
          "text": [
            "hello world\n"
          ]
        }
      ],
      "source": [
        "print (\"hello world\")"
      ]
    },
    {
      "cell_type": "code",
      "source": [
        "print (\"hello world\")"
      ],
      "metadata": {
        "id": "F4Ph0GxLC3wG",
        "colab": {
          "base_uri": "https://localhost:8080/"
        },
        "outputId": "51afd4f5-42ba-4c7a-f690-de2ac9b2876e"
      },
      "execution_count": 4,
      "outputs": [
        {
          "output_type": "stream",
          "name": "stdout",
          "text": [
            "hello world\n"
          ]
        }
      ]
    },
    {
      "cell_type": "code",
      "source": [
        "( )"
      ],
      "metadata": {
        "colab": {
          "base_uri": "https://localhost:8080/"
        },
        "id": "2t0XtCtTHseq",
        "outputId": "dda6d36d-6ca0-4f37-ac9a-46e971d3dda0"
      },
      "execution_count": 5,
      "outputs": [
        {
          "output_type": "execute_result",
          "data": {
            "text/plain": [
              "()"
            ]
          },
          "metadata": {},
          "execution_count": 5
        }
      ]
    },
    {
      "cell_type": "code",
      "source": [
        "# Given two positive integers a and b, each less than 1000, calculate the integer corresponding to the square of the hypotenuse of the right triangle whose legs have lengths a and b."
      ],
      "metadata": {
        "id": "bBsT3GBcINkp"
      },
      "execution_count": 7,
      "outputs": []
    },
    {
      "cell_type": "code",
      "source": [
        "a, b = map(int, input(\"Enter two space-separated integers: \").split())"
      ],
      "metadata": {
        "colab": {
          "base_uri": "https://localhost:8080/"
        },
        "id": "FUOY5l_JH6wL",
        "outputId": "1978ef61-ea1c-4ce7-9239-2801a601ea49"
      },
      "execution_count": 8,
      "outputs": [
        {
          "name": "stdout",
          "output_type": "stream",
          "text": [
            "Enter two space-separated integers: 947 936\n"
          ]
        }
      ]
    },
    {
      "cell_type": "code",
      "source": [
        "result = a**2 + b**2"
      ],
      "metadata": {
        "id": "TTARYGzEH-vZ"
      },
      "execution_count": 9,
      "outputs": []
    },
    {
      "cell_type": "code",
      "source": [
        "print(result)"
      ],
      "metadata": {
        "colab": {
          "base_uri": "https://localhost:8080/"
        },
        "id": "_LnbKmHgICi5",
        "outputId": "4c3bdb82-bdd8-4423-e86c-413200b7ddf3"
      },
      "execution_count": 10,
      "outputs": [
        {
          "output_type": "stream",
          "name": "stdout",
          "text": [
            "1772905\n"
          ]
        }
      ]
    },
    {
      "cell_type": "code",
      "source": [
        "input (\"enter your name: \")\n",
        "print (\"Hello, \" + name)"
      ],
      "metadata": {
        "colab": {
          "base_uri": "https://localhost:8080/"
        },
        "id": "xdpFYgGTI6qB",
        "outputId": "6ee5204e-b6cf-4caf-92a6-c3283612607c"
      },
      "execution_count": 14,
      "outputs": [
        {
          "output_type": "stream",
          "name": "stdout",
          "text": [
            "enter your name: Taylor\n",
            "Hello, Taylor\n"
          ]
        }
      ]
    },
    {
      "cell_type": "code",
      "source": [
        "# Given two positive integers a and b, each less than 1000, calculate the integer corresponding to the square of the hypotenuse of the right triangle whose legs have lengths a and b."
      ],
      "metadata": {
        "id": "En7roPT3I89N"
      },
      "execution_count": 15,
      "outputs": []
    },
    {
      "cell_type": "code",
      "source": [
        "a, b = map(int, input(\"Enter two space-separated integers: \").split())"
      ],
      "metadata": {
        "colab": {
          "base_uri": "https://localhost:8080/"
        },
        "id": "o7jxvzTLJX7X",
        "outputId": "a1730421-9947-4462-839b-ee7194f40ef6"
      },
      "execution_count": 16,
      "outputs": [
        {
          "name": "stdout",
          "output_type": "stream",
          "text": [
            "Enter two space-separated integers: 947 936\n"
          ]
        }
      ]
    },
    {
      "cell_type": "code",
      "source": [
        "result = a**2 + b**2"
      ],
      "metadata": {
        "id": "wgQtzfCnJZ32"
      },
      "execution_count": 17,
      "outputs": []
    },
    {
      "cell_type": "code",
      "source": [
        "print(result)"
      ],
      "metadata": {
        "colab": {
          "base_uri": "https://localhost:8080/"
        },
        "id": "TtWKs3sIJbyo",
        "outputId": "7c9cc423-0c72-4fc3-bf9c-9ffb201abeda"
      },
      "execution_count": 18,
      "outputs": [
        {
          "output_type": "stream",
          "name": "stdout",
          "text": [
            "1772905\n"
          ]
        }
      ]
    },
    {
      "cell_type": "code",
      "source": [
        "# Create a list with 3 elements and then print the\n",
        "\n",
        "my_list = [\"Hello\", \"World\", \"Charles Darwin\"]\n",
        "print (my_list[1])"
      ],
      "metadata": {
        "colab": {
          "base_uri": "https://localhost:8080/"
        },
        "id": "Qu8HKOHxJgZV",
        "outputId": "0feeed48-d6a2-4bb6-b6e2-b6105a4fa383"
      },
      "execution_count": 19,
      "outputs": [
        {
          "output_type": "stream",
          "name": "stdout",
          "text": [
            "World\n"
          ]
        }
      ]
    },
    {
      "cell_type": "code",
      "source": [
        "# Substitute the item at index 2 in the list\n",
        "my_list[2] = \"Alfred R. Wallace\"\n",
        "print (my_list)"
      ],
      "metadata": {
        "colab": {
          "base_uri": "https://localhost:8080/"
        },
        "id": "WlTiSf3NJvtP",
        "outputId": "db05b96a-12a6-4191-8906-a6106252970e"
      },
      "execution_count": 20,
      "outputs": [
        {
          "output_type": "stream",
          "name": "stdout",
          "text": [
            "['Hello', 'World', 'Alfred R. Wallace']\n"
          ]
        }
      ]
    },
    {
      "cell_type": "code",
      "source": [
        "# Append an item to the end of the list\n",
        "my_list.append(\"Charles Darwin\")\n",
        "print (my_list)"
      ],
      "metadata": {
        "colab": {
          "base_uri": "https://localhost:8080/"
        },
        "id": "HBCP2OAqJ8Dp",
        "outputId": "bedec9c1-3a64-49c1-994f-229511e21910"
      },
      "execution_count": 21,
      "outputs": [
        {
          "output_type": "stream",
          "name": "stdout",
          "text": [
            "['Hello', 'World', 'Alfred R. Wallace', 'Charles Darwin']\n"
          ]
        }
      ]
    },
    {
      "cell_type": "code",
      "source": [
        "print (my_list[2:4])"
      ],
      "metadata": {
        "colab": {
          "base_uri": "https://localhost:8080/"
        },
        "id": "rDfTOqhDKKER",
        "outputId": "022ac2bb-8b29-4827-9d31-bb00cadad0e0"
      },
      "execution_count": 22,
      "outputs": [
        {
          "output_type": "stream",
          "name": "stdout",
          "text": [
            "['Alfred R. Wallace', 'Charles Darwin']\n"
          ]
        }
      ]
    },
    {
      "cell_type": "code",
      "source": [
        "my_string = \"HelloWorldCharlesDarwinAlfred R. Wallace\"\n",
        "print (my_string[0:5],my_string[5:10])"
      ],
      "metadata": {
        "colab": {
          "base_uri": "https://localhost:8080/"
        },
        "id": "SN7UA24-KTFM",
        "outputId": "28dff92f-75dc-439c-ba2d-027cd23105fd"
      },
      "execution_count": 23,
      "outputs": [
        {
          "output_type": "stream",
          "name": "stdout",
          "text": [
            "Hello World\n"
          ]
        }
      ]
    },
    {
      "cell_type": "code",
      "metadata": {
        "colab": {
          "base_uri": "https://localhost:8080/"
        },
        "id": "72690125",
        "outputId": "504ed2a9-fb5c-42d8-cd03-e5fe05a4eb72"
      },
      "source": [
        "print(my_string[32:40], my_string[5:10])"
      ],
      "execution_count": 43,
      "outputs": [
        {
          "output_type": "stream",
          "name": "stdout",
          "text": [
            " Wallace World\n"
          ]
        }
      ]
    },
    {
      "cell_type": "code",
      "source": [
        "# A string s of length at most 200 letters and four integers a,b, c and d. Calculate the slice of this string from indices a through b and c through d (with space in between), inclusively. In other words, we should include elements s[b] and s[d] in our slice."
      ],
      "metadata": {
        "id": "CPaEygyNLx-e"
      },
      "execution_count": 45,
      "outputs": []
    },
    {
      "cell_type": "code",
      "source": [
        "s = input().strip()"
      ],
      "metadata": {
        "colab": {
          "base_uri": "https://localhost:8080/"
        },
        "id": "Qt6BiHyEL_Ut",
        "outputId": "b10c6f0b-c71a-44d6-98f0-e7ad18bc6b37"
      },
      "execution_count": 46,
      "outputs": [
        {
          "name": "stdout",
          "output_type": "stream",
          "text": [
            "tjrGoTAU251WZgvl6ojNEQN0EirenisZPynqhArQGeefbSdlHo4Qs3zMmP8lzs0BuUpgkrltSgcPxMxkI7zFjYiLdS10eSMMIkTZNJKoHMNaw9TjlhUGEBeNsAIeElIMF4moUautOMNEldkTchTRGjRTKHaDkZgBWnOlgordoninGhJelEwBroTvD2JI7s9HMObuw8T. 24 30 164 170\n"
          ]
        }
      ]
    },
    {
      "cell_type": "code",
      "source": [
        "a, b, c, d = map(int, input().split())"
      ],
      "metadata": {
        "colab": {
          "base_uri": "https://localhost:8080/"
        },
        "id": "9IEcOgz-MBoI",
        "outputId": "c26e8667-5e99-4f8a-89a0-5315d41dcdb3"
      },
      "execution_count": 47,
      "outputs": [
        {
          "name": "stdout",
          "output_type": "stream",
          "text": [
            "24 30 164 170\n"
          ]
        }
      ]
    },
    {
      "cell_type": "code",
      "source": [
        "part1=s [a:b+1]\n",
        "part2=s [c:d+1]"
      ],
      "metadata": {
        "id": "iiTfOOspMCi6"
      },
      "execution_count": 48,
      "outputs": []
    },
    {
      "cell_type": "code",
      "source": [
        "print(part1, part2)"
      ],
      "metadata": {
        "colab": {
          "base_uri": "https://localhost:8080/"
        },
        "id": "AE8lBdOZMFv5",
        "outputId": "474703e1-7a03-475e-91d1-64b608672ae9"
      },
      "execution_count": 49,
      "outputs": [
        {
          "output_type": "stream",
          "name": "stdout",
          "text": [
            "Eirenis gordoni\n"
          ]
        }
      ]
    }
  ]
}