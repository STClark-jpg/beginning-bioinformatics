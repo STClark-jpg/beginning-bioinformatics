{
  "nbformat": 4,
  "nbformat_minor": 0,
  "metadata": {
    "colab": {
      "provenance": [],
      "authorship_tag": "ABX9TyMVjCrUyV24ET+BzkPwldJZ",
      "include_colab_link": true
    },
    "kernelspec": {
      "name": "python3",
      "display_name": "Python 3"
    },
    "language_info": {
      "name": "python"
    }
  },
  "cells": [
    {
      "cell_type": "markdown",
      "metadata": {
        "id": "view-in-github",
        "colab_type": "text"
      },
      "source": [
        "<a href=\"https://colab.research.google.com/github/STClark-jpg/beginning-bioinformatics/blob/main/notebooks/Bioinformatics_Module03.ipynb\" target=\"_parent\"><img src=\"https://colab.research.google.com/assets/colab-badge.svg\" alt=\"Open In Colab\"/></a>"
      ]
    },
    {
      "cell_type": "code",
      "execution_count": null,
      "metadata": {
        "colab": {
          "base_uri": "https://localhost:8080/"
        },
        "id": "EG_x0zsGCoA4",
        "outputId": "71a878b0-83f2-46df-819f-49b91965d57e"
      },
      "outputs": [
        {
          "output_type": "stream",
          "name": "stdout",
          "text": [
            "hello world\n"
          ]
        }
      ],
      "source": [
        "print (\"hello world\")"
      ]
    },
    {
      "cell_type": "code",
      "source": [
        "print (\"hello world\")"
      ],
      "metadata": {
        "id": "F4Ph0GxLC3wG",
        "colab": {
          "base_uri": "https://localhost:8080/"
        },
        "outputId": "51afd4f5-42ba-4c7a-f690-de2ac9b2876e"
      },
      "execution_count": 4,
      "outputs": [
        {
          "output_type": "stream",
          "name": "stdout",
          "text": [
            "hello world\n"
          ]
        }
      ]
    },
    {
      "cell_type": "code",
      "source": [
        "( )"
      ],
      "metadata": {
        "colab": {
          "base_uri": "https://localhost:8080/"
        },
        "id": "2t0XtCtTHseq",
        "outputId": "dda6d36d-6ca0-4f37-ac9a-46e971d3dda0"
      },
      "execution_count": 5,
      "outputs": [
        {
          "output_type": "execute_result",
          "data": {
            "text/plain": [
              "()"
            ]
          },
          "metadata": {},
          "execution_count": 5
        }
      ]
    },
    {
      "cell_type": "code",
      "source": [
        "# Given two positive integers a and b, each less than 1000, calculate the integer corresponding to the square of the hypotenuse of the right triangle whose legs have lengths a and b."
      ],
      "metadata": {
        "id": "bBsT3GBcINkp"
      },
      "execution_count": 7,
      "outputs": []
    },
    {
      "cell_type": "code",
      "source": [
        "a, b = map(int, input(\"Enter two space-separated integers: \").split())"
      ],
      "metadata": {
        "colab": {
          "base_uri": "https://localhost:8080/"
        },
        "id": "FUOY5l_JH6wL",
        "outputId": "1978ef61-ea1c-4ce7-9239-2801a601ea49"
      },
      "execution_count": 8,
      "outputs": [
        {
          "name": "stdout",
          "output_type": "stream",
          "text": [
            "Enter two space-separated integers: 947 936\n"
          ]
        }
      ]
    },
    {
      "cell_type": "code",
      "source": [
        "result = a**2 + b**2"
      ],
      "metadata": {
        "id": "TTARYGzEH-vZ"
      },
      "execution_count": 9,
      "outputs": []
    },
    {
      "cell_type": "code",
      "source": [
        "print(result)"
      ],
      "metadata": {
        "colab": {
          "base_uri": "https://localhost:8080/"
        },
        "id": "_LnbKmHgICi5",
        "outputId": "4c3bdb82-bdd8-4423-e86c-413200b7ddf3"
      },
      "execution_count": 10,
      "outputs": [
        {
          "output_type": "stream",
          "name": "stdout",
          "text": [
            "1772905\n"
          ]
        }
      ]
    },
    {
      "cell_type": "code",
      "source": [
        "input (\"enter your name: \")\n",
        "print (\"Hello, \" + name)"
      ],
      "metadata": {
        "colab": {
          "base_uri": "https://localhost:8080/"
        },
        "id": "xdpFYgGTI6qB",
        "outputId": "6ee5204e-b6cf-4caf-92a6-c3283612607c"
      },
      "execution_count": 14,
      "outputs": [
        {
          "output_type": "stream",
          "name": "stdout",
          "text": [
            "enter your name: Taylor\n",
            "Hello, Taylor\n"
          ]
        }
      ]
    },
    {
      "cell_type": "code",
      "source": [
        "# Given two positive integers a and b, each less than 1000, calculate the integer corresponding to the square of the hypotenuse of the right triangle whose legs have lengths a and b."
      ],
      "metadata": {
        "id": "En7roPT3I89N"
      },
      "execution_count": 15,
      "outputs": []
    },
    {
      "cell_type": "code",
      "source": [
        "a, b = map(int, input(\"Enter two space-separated integers: \").split())"
      ],
      "metadata": {
        "colab": {
          "base_uri": "https://localhost:8080/"
        },
        "id": "o7jxvzTLJX7X",
        "outputId": "a1730421-9947-4462-839b-ee7194f40ef6"
      },
      "execution_count": 16,
      "outputs": [
        {
          "name": "stdout",
          "output_type": "stream",
          "text": [
            "Enter two space-separated integers: 947 936\n"
          ]
        }
      ]
    },
    {
      "cell_type": "code",
      "source": [
        "result = a**2 + b**2"
      ],
      "metadata": {
        "id": "wgQtzfCnJZ32"
      },
      "execution_count": 17,
      "outputs": []
    },
    {
      "cell_type": "code",
      "source": [
        "print(result)"
      ],
      "metadata": {
        "colab": {
          "base_uri": "https://localhost:8080/"
        },
        "id": "TtWKs3sIJbyo",
        "outputId": "7c9cc423-0c72-4fc3-bf9c-9ffb201abeda"
      },
      "execution_count": 18,
      "outputs": [
        {
          "output_type": "stream",
          "name": "stdout",
          "text": [
            "1772905\n"
          ]
        }
      ]
    },
    {
      "cell_type": "code",
      "source": [
        "# Create a list with 3 elements and then print the\n",
        "\n",
        "my_list = [\"Hello\", \"World\", \"Charles Darwin\"]\n",
        "print (my_list[1])"
      ],
      "metadata": {
        "colab": {
          "base_uri": "https://localhost:8080/"
        },
        "id": "Qu8HKOHxJgZV",
        "outputId": "0feeed48-d6a2-4bb6-b6e2-b6105a4fa383"
      },
      "execution_count": 19,
      "outputs": [
        {
          "output_type": "stream",
          "name": "stdout",
          "text": [
            "World\n"
          ]
        }
      ]
    },
    {
      "cell_type": "code",
      "source": [
        "# Substitute the item at index 2 in the list\n",
        "my_list[2] = \"Alfred R. Wallace\"\n",
        "print (my_list)"
      ],
      "metadata": {
        "colab": {
          "base_uri": "https://localhost:8080/"
        },
        "id": "WlTiSf3NJvtP",
        "outputId": "db05b96a-12a6-4191-8906-a6106252970e"
      },
      "execution_count": 20,
      "outputs": [
        {
          "output_type": "stream",
          "name": "stdout",
          "text": [
            "['Hello', 'World', 'Alfred R. Wallace']\n"
          ]
        }
      ]
    },
    {
      "cell_type": "code",
      "source": [
        "# Append an item to the end of the list\n",
        "my_list.append(\"Charles Darwin\")\n",
        "print (my_list)"
      ],
      "metadata": {
        "colab": {
          "base_uri": "https://localhost:8080/"
        },
        "id": "HBCP2OAqJ8Dp",
        "outputId": "bedec9c1-3a64-49c1-994f-229511e21910"
      },
      "execution_count": 21,
      "outputs": [
        {
          "output_type": "stream",
          "name": "stdout",
          "text": [
            "['Hello', 'World', 'Alfred R. Wallace', 'Charles Darwin']\n"
          ]
        }
      ]
    },
    {
      "cell_type": "code",
      "source": [
        "print (my_list[2:4])"
      ],
      "metadata": {
        "colab": {
          "base_uri": "https://localhost:8080/"
        },
        "id": "rDfTOqhDKKER",
        "outputId": "022ac2bb-8b29-4827-9d31-bb00cadad0e0"
      },
      "execution_count": 22,
      "outputs": [
        {
          "output_type": "stream",
          "name": "stdout",
          "text": [
            "['Alfred R. Wallace', 'Charles Darwin']\n"
          ]
        }
      ]
    },
    {
      "cell_type": "code",
      "source": [
        "my_string = \"HelloWorldCharlesDarwinAlfred R. Wallace\"\n",
        "print (my_string[0:5],my_string[5:10])"
      ],
      "metadata": {
        "colab": {
          "base_uri": "https://localhost:8080/"
        },
        "id": "SN7UA24-KTFM",
        "outputId": "28dff92f-75dc-439c-ba2d-027cd23105fd"
      },
      "execution_count": 23,
      "outputs": [
        {
          "output_type": "stream",
          "name": "stdout",
          "text": [
            "Hello World\n"
          ]
        }
      ]
    },
    {
      "cell_type": "code",
      "metadata": {
        "colab": {
          "base_uri": "https://localhost:8080/"
        },
        "id": "72690125",
        "outputId": "504ed2a9-fb5c-42d8-cd03-e5fe05a4eb72"
      },
      "source": [
        "print(my_string[32:40], my_string[5:10])"
      ],
      "execution_count": 43,
      "outputs": [
        {
          "output_type": "stream",
          "name": "stdout",
          "text": [
            " Wallace World\n"
          ]
        }
      ]
    },
    {
      "cell_type": "code",
      "source": [
        "# A string s of length at most 200 letters and four integers a,b, c and d. Calculate the slice of this string from indices a through b and c through d (with space in between), inclusively. In other words, we should include elements s[b] and s[d] in our slice."
      ],
      "metadata": {
        "id": "CPaEygyNLx-e"
      },
      "execution_count": 45,
      "outputs": []
    },
    {
      "cell_type": "code",
      "source": [
        "s = input().strip()"
      ],
      "metadata": {
        "colab": {
          "base_uri": "https://localhost:8080/"
        },
        "id": "Qt6BiHyEL_Ut",
        "outputId": "b10c6f0b-c71a-44d6-98f0-e7ad18bc6b37"
      },
      "execution_count": 46,
      "outputs": [
        {
          "name": "stdout",
          "output_type": "stream",
          "text": [
            "tjrGoTAU251WZgvl6ojNEQN0EirenisZPynqhArQGeefbSdlHo4Qs3zMmP8lzs0BuUpgkrltSgcPxMxkI7zFjYiLdS10eSMMIkTZNJKoHMNaw9TjlhUGEBeNsAIeElIMF4moUautOMNEldkTchTRGjRTKHaDkZgBWnOlgordoninGhJelEwBroTvD2JI7s9HMObuw8T. 24 30 164 170\n"
          ]
        }
      ]
    },
    {
      "cell_type": "code",
      "source": [
        "a, b, c, d = map(int, input().split())"
      ],
      "metadata": {
        "colab": {
          "base_uri": "https://localhost:8080/"
        },
        "id": "9IEcOgz-MBoI",
        "outputId": "c26e8667-5e99-4f8a-89a0-5315d41dcdb3"
      },
      "execution_count": 47,
      "outputs": [
        {
          "name": "stdout",
          "output_type": "stream",
          "text": [
            "24 30 164 170\n"
          ]
        }
      ]
    },
    {
      "cell_type": "code",
      "source": [
        "part1=s [a:b+1]\n",
        "part2=s [c:d+1]"
      ],
      "metadata": {
        "id": "iiTfOOspMCi6"
      },
      "execution_count": 48,
      "outputs": []
    },
    {
      "cell_type": "code",
      "source": [
        "print(part1, part2)"
      ],
      "metadata": {
        "colab": {
          "base_uri": "https://localhost:8080/"
        },
        "id": "AE8lBdOZMFv5",
        "outputId": "474703e1-7a03-475e-91d1-64b608672ae9"
      },
      "execution_count": 49,
      "outputs": [
        {
          "output_type": "stream",
          "name": "stdout",
          "text": [
            "Eirenis gordoni\n"
          ]
        }
      ]
    },
    {
      "cell_type": "code",
      "source": [
        "a=5\n",
        "b=5\n",
        "\n",
        "if a!=b:\n",
        "    print(a-b)\n",
        "\n",
        "else:\n",
        "    print(a+b)"
      ],
      "metadata": {
        "colab": {
          "base_uri": "https://localhost:8080/"
        },
        "id": "JHqGVf4HMqMt",
        "outputId": "c3e3f9c3-773f-471c-bbd2-78a5218dbef5"
      },
      "execution_count": 50,
      "outputs": [
        {
          "output_type": "stream",
          "name": "stdout",
          "text": [
            "10\n"
          ]
        }
      ]
    },
    {
      "cell_type": "code",
      "source": [
        "#initiate a counter\n",
        "a = 1\n",
        "\n",
        "#print \"Counting!\" while a,=3\n",
        "while a <= 3:\n",
        "\n",
        "    print (\"Counting!\" * a)\n",
        "    a += 1"
      ],
      "metadata": {
        "colab": {
          "base_uri": "https://localhost:8080/"
        },
        "id": "yGE1_HfCM2xn",
        "outputId": "0716ca93-69ee-4d29-dfe8-f14d76231648"
      },
      "execution_count": 52,
      "outputs": [
        {
          "output_type": "stream",
          "name": "stdout",
          "text": [
            "Counting!\n",
            "Counting!Counting!\n",
            "Counting!Counting!Counting!\n"
          ]
        }
      ]
    },
    {
      "cell_type": "code",
      "source": [
        "names = [\"Alice\",\"Bob\",\"Charley\"]\n",
        "\n",
        "for name in names:\n",
        "    print (\"Hello\", name)"
      ],
      "metadata": {
        "colab": {
          "base_uri": "https://localhost:8080/"
        },
        "id": "j1nCkwcpNIbz",
        "outputId": "e66beaef-f788-4c4d-ec6d-159c6d04d1d1"
      },
      "execution_count": 53,
      "outputs": [
        {
          "output_type": "stream",
          "name": "stdout",
          "text": [
            "Hello Alice\n",
            "Hello Bob\n",
            "Hello Charley\n"
          ]
        }
      ]
    },
    {
      "cell_type": "code",
      "source": [
        "# Create a variable to define the number of iterations\n",
        "iterations = 10\n",
        "\n",
        "#Print the current item's value each time through the loop\n",
        "for number in range(iterations):\n",
        "    print (number)"
      ],
      "metadata": {
        "colab": {
          "base_uri": "https://localhost:8080/"
        },
        "id": "pNzXQ_j8NrbI",
        "outputId": "d7bc3790-fdfe-40d2-88c5-b3a26732ebe1"
      },
      "execution_count": 57,
      "outputs": [
        {
          "output_type": "stream",
          "name": "stdout",
          "text": [
            "0\n",
            "1\n",
            "2\n",
            "3\n",
            "4\n",
            "5\n",
            "6\n",
            "7\n",
            "8\n",
            "9\n"
          ]
        }
      ]
    },
    {
      "cell_type": "code",
      "source": [
        "# Create a variable to define the number of iterations\n",
        "# This variable is no longer strictly defining iterations in the same way,\n",
        "# but the range function call below now controls the numbers printed.\n",
        "iterations = 10\n",
        "\n",
        "#Print the current item's value each time through the loop\n",
        "for number in range(9, 28, 3):\n",
        "    print (number)"
      ],
      "metadata": {
        "colab": {
          "base_uri": "https://localhost:8080/"
        },
        "id": "OPrxkMoNNUHh",
        "outputId": "c03cf29d-b413-41ae-9e14-a6d963c38ebb"
      },
      "execution_count": 58,
      "outputs": [
        {
          "output_type": "stream",
          "name": "stdout",
          "text": [
            "9\n",
            "12\n",
            "15\n",
            "18\n",
            "21\n",
            "24\n",
            "27\n"
          ]
        }
      ]
    },
    {
      "cell_type": "code",
      "source": [
        "# Given two positive integers and b (a < b < 10000). Calculate the sum of all odd integers from a through b, inclusively."
      ],
      "metadata": {
        "id": "12VzXWPGNf7_"
      },
      "execution_count": 60,
      "outputs": []
    },
    {
      "cell_type": "code",
      "source": [
        "a, b= map(int, input().split())"
      ],
      "metadata": {
        "colab": {
          "base_uri": "https://localhost:8080/"
        },
        "id": "cXlTLPbtOLYJ",
        "outputId": "f7e8c7e4-0238-41fd-f09a-68bacc57385d"
      },
      "execution_count": 61,
      "outputs": [
        {
          "name": "stdout",
          "output_type": "stream",
          "text": [
            "4000 8037\n"
          ]
        }
      ]
    },
    {
      "cell_type": "code",
      "source": [
        "from re import I\n",
        "total = 0 # Initialize total\n",
        "for i in range(a, b + 1):\n",
        "  if i % 2 == 1: # check if odd\n",
        "    total += i #"
      ],
      "metadata": {
        "id": "dEbC9A92ONVt"
      },
      "execution_count": 62,
      "outputs": []
    },
    {
      "cell_type": "code",
      "source": [
        "print(total)"
      ],
      "metadata": {
        "colab": {
          "base_uri": "https://localhost:8080/"
        },
        "id": "7aICkkGqOO9n",
        "outputId": "e634112f-d266-4d69-94aa-a8da6aa8c78c"
      },
      "execution_count": 63,
      "outputs": [
        {
          "output_type": "stream",
          "name": "stdout",
          "text": [
            "12152361\n"
          ]
        }
      ]
    },
    {
      "cell_type": "code",
      "source": [
        "with open(\"practice.txt\",\"r\") as data:\n",
        "\n",
        "    print(data.read())"
      ],
      "metadata": {
        "colab": {
          "base_uri": "https://localhost:8080/",
          "height": 196
        },
        "id": "PD49xxloPftT",
        "outputId": "e50510fc-05aa-475d-93d7-34489528ec58"
      },
      "execution_count": 67,
      "outputs": [
        {
          "output_type": "error",
          "ename": "FileNotFoundError",
          "evalue": "[Errno 2] No such file or directory: 'practice.txt'",
          "traceback": [
            "\u001b[0;31m---------------------------------------------------------------------------\u001b[0m",
            "\u001b[0;31mFileNotFoundError\u001b[0m                         Traceback (most recent call last)",
            "\u001b[0;32m/tmp/ipython-input-2385469503.py\u001b[0m in \u001b[0;36m<cell line: 0>\u001b[0;34m()\u001b[0m\n\u001b[0;32m----> 1\u001b[0;31m \u001b[0;32mwith\u001b[0m \u001b[0mopen\u001b[0m\u001b[0;34m(\u001b[0m\u001b[0;34m\"practice.txt\"\u001b[0m\u001b[0;34m,\u001b[0m\u001b[0;34m\"r\"\u001b[0m\u001b[0;34m)\u001b[0m \u001b[0;32mas\u001b[0m \u001b[0mdata\u001b[0m\u001b[0;34m:\u001b[0m\u001b[0;34m\u001b[0m\u001b[0;34m\u001b[0m\u001b[0m\n\u001b[0m\u001b[1;32m      2\u001b[0m \u001b[0;34m\u001b[0m\u001b[0m\n\u001b[1;32m      3\u001b[0m     \u001b[0mprint\u001b[0m\u001b[0;34m(\u001b[0m\u001b[0mdata\u001b[0m\u001b[0;34m.\u001b[0m\u001b[0mread\u001b[0m\u001b[0;34m(\u001b[0m\u001b[0;34m)\u001b[0m\u001b[0;34m)\u001b[0m\u001b[0;34m\u001b[0m\u001b[0;34m\u001b[0m\u001b[0m\n",
            "\u001b[0;31mFileNotFoundError\u001b[0m: [Errno 2] No such file or directory: 'practice.txt'"
          ]
        }
      ]
    },
    {
      "cell_type": "code",
      "source": [
        "with open(\"practice.txt\",\"r\") as data:\n",
        "    print(data.read())"
      ],
      "metadata": {
        "colab": {
          "base_uri": "https://localhost:8080/"
        },
        "id": "uS_kvlW3Qp1D",
        "outputId": "112c8e5c-d282-4987-d58b-18976ae864b5"
      },
      "execution_count": 72,
      "outputs": [
        {
          "output_type": "stream",
          "name": "stdout",
          "text": [
            "This is some practice text.\n"
          ]
        }
      ]
    },
    {
      "cell_type": "code",
      "source": [
        "with open(\"practice.txt\",\"r\") as data:\n",
        "\n",
        "  list_of_lines=data.readlines()\n",
        "\n",
        "print (list_of_lines)"
      ],
      "metadata": {
        "colab": {
          "base_uri": "https://localhost:8080/"
        },
        "id": "qScjEwqTQ0L9",
        "outputId": "4802d23d-e70e-4715-f247-f69d6387824d"
      },
      "execution_count": 73,
      "outputs": [
        {
          "output_type": "stream",
          "name": "stdout",
          "text": [
            "['This is some practice text.']\n"
          ]
        }
      ]
    },
    {
      "cell_type": "code",
      "source": [
        "with open(\"practice.txt\",\"r\") as data:\n",
        "\n",
        "  for line in data:\n",
        "    print (line)"
      ],
      "metadata": {
        "colab": {
          "base_uri": "https://localhost:8080/"
        },
        "id": "uGDlkmDCQ-hJ",
        "outputId": "b8139b93-1004-4768-abff-4d54cd3a5402"
      },
      "execution_count": 74,
      "outputs": [
        {
          "output_type": "stream",
          "name": "stdout",
          "text": [
            "This is some practice text.\n"
          ]
        }
      ]
    },
    {
      "cell_type": "code",
      "source": [
        "# Given a file containing at most 1000 lines. Calculate a file containing all the even-numbered lines from the original file. Assume 1-based numbering of lines."
      ],
      "metadata": {
        "id": "cdPMD-fWRI6d"
      },
      "execution_count": 76,
      "outputs": []
    },
    {
      "cell_type": "code",
      "source": [
        "# write the sample dataset to a file\n",
        "with open(\"input.txt\", \"w\") as f:\n",
        "  f.write(\"\"\"`Twas brillig, and the slithy toves\n",
        "Some things in life are bad, they can really make you mad\n",
        "  Did gyre and gimble in the wabe:\n",
        "Other things just make you swear and curse\n",
        "All mimsy were the borogoves,\n",
        "When you're chewing on life's gristle, don't grumble give a whistle\n",
        "  And the mome raths outgrabe.\n",
        "This will help things turn out for the best\n",
        "\"Beware the Jabberwock, my son!\n",
        "Always look on the bright side of life\n",
        "  The jaws that bite, the claws that catch!\n",
        "Always look on the right side of life\n",
        "Beware the Jubjub bird, and shun\n",
        "If life seems jolly rotten, there's something you've forgotten\n",
        "  The frumious Bandersnatch!\"\n",
        "And that's to laugh and smile and dance and sing\n",
        "He took his vorpal sword in hand:\n",
        "When you're feeling in the dumps, don't be silly, chumps\n",
        "  Long time the manxome foe he sought --\n",
        "Just purse your lips and whistle, that's the thing\n",
        "So rested he by the Tumtum tree,\n",
        "So, always look on the bright side of death\n",
        "  And stood awhile in thought.\n",
        "Just before you draw your terminal breath\n",
        "And, as in uffish thought he stood,\n",
        "Life's a counterfeit and when you look at it\n",
        "  The Jabberwock, with eyes of flame,\n",
        "Life's a laugh and death's the joke, it's true\n",
        "Came whiffling through the tulgey wood,\n",
        "You see, it's all a show, keep them laughing as you go\n",
        "  And burbled as it came!\n",
        "Just remember the last laugh is on you\n",
        "One, two! One, two! And through and through\n",
        "Always look on the bright side of life\n",
        "  The vorpal blade went snicker-snack!\n",
        "And always look on the right side of life\n",
        "He left it dead, and with its head\n",
        "Always look on the bright side of life\n",
        "  He went galumphing back.\n",
        "And always look on the right side of life\"\"\")"
      ],
      "metadata": {
        "id": "LsC3bSV1RhF_"
      },
      "execution_count": 77,
      "outputs": []
    },
    {
      "cell_type": "code",
      "source": [
        "# now read it and print even-numbered lines\n",
        "with open(\"input.txt\", \"r\") as f:\n",
        "  for i, line in enumerate(f, start=1):\n",
        "    if i % 2 == 0:   # even-numbered lines\n",
        "      print(line.strip())"
      ],
      "metadata": {
        "colab": {
          "base_uri": "https://localhost:8080/"
        },
        "id": "K1rN8GsmRjnO",
        "outputId": "3b0863a0-1a11-4114-f13a-213bdb40a895"
      },
      "execution_count": 78,
      "outputs": [
        {
          "output_type": "stream",
          "name": "stdout",
          "text": [
            "Some things in life are bad, they can really make you mad\n",
            "Other things just make you swear and curse\n",
            "When you're chewing on life's gristle, don't grumble give a whistle\n",
            "This will help things turn out for the best\n",
            "Always look on the bright side of life\n",
            "Always look on the right side of life\n",
            "If life seems jolly rotten, there's something you've forgotten\n",
            "And that's to laugh and smile and dance and sing\n",
            "When you're feeling in the dumps, don't be silly, chumps\n",
            "Just purse your lips and whistle, that's the thing\n",
            "So, always look on the bright side of death\n",
            "Just before you draw your terminal breath\n",
            "Life's a counterfeit and when you look at it\n",
            "Life's a laugh and death's the joke, it's true\n",
            "You see, it's all a show, keep them laughing as you go\n",
            "Just remember the last laugh is on you\n",
            "Always look on the bright side of life\n",
            "And always look on the right side of life\n",
            "Always look on the bright side of life\n",
            "And always look on the right side of life\n"
          ]
        }
      ]
    }
  ]
}