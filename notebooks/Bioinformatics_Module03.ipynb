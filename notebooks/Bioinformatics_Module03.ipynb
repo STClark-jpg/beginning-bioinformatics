{
  "nbformat": 4,
  "nbformat_minor": 0,
  "metadata": {
    "colab": {
      "provenance": [],
      "authorship_tag": "ABX9TyOcvBr15MTyb9vw4zAVkISR",
      "include_colab_link": true
    },
    "kernelspec": {
      "name": "python3",
      "display_name": "Python 3"
    },
    "language_info": {
      "name": "python"
    }
  },
  "cells": [
    {
      "cell_type": "markdown",
      "metadata": {
        "id": "view-in-github",
        "colab_type": "text"
      },
      "source": [
        "<a href=\"https://colab.research.google.com/github/STClark-jpg/beginning-bioinformatics/blob/main/notebooks/Bioinformatics_Module03.ipynb\" target=\"_parent\"><img src=\"https://colab.research.google.com/assets/colab-badge.svg\" alt=\"Open In Colab\"/></a>"
      ]
    },
    {
      "cell_type": "code",
      "execution_count": null,
      "metadata": {
        "colab": {
          "base_uri": "https://localhost:8080/"
        },
        "id": "EG_x0zsGCoA4",
        "outputId": "71a878b0-83f2-46df-819f-49b91965d57e"
      },
      "outputs": [
        {
          "output_type": "stream",
          "name": "stdout",
          "text": [
            "hello world\n"
          ]
        }
      ],
      "source": [
        "print (\"hello world\")"
      ]
    },
    {
      "cell_type": "code",
      "source": [
        "print (\"hello world\")"
      ],
      "metadata": {
        "id": "F4Ph0GxLC3wG",
        "colab": {
          "base_uri": "https://localhost:8080/"
        },
        "outputId": "51afd4f5-42ba-4c7a-f690-de2ac9b2876e"
      },
      "execution_count": 4,
      "outputs": [
        {
          "output_type": "stream",
          "name": "stdout",
          "text": [
            "hello world\n"
          ]
        }
      ]
    },
    {
      "cell_type": "code",
      "source": [
        "( )"
      ],
      "metadata": {
        "colab": {
          "base_uri": "https://localhost:8080/"
        },
        "id": "2t0XtCtTHseq",
        "outputId": "dda6d36d-6ca0-4f37-ac9a-46e971d3dda0"
      },
      "execution_count": 5,
      "outputs": [
        {
          "output_type": "execute_result",
          "data": {
            "text/plain": [
              "()"
            ]
          },
          "metadata": {},
          "execution_count": 5
        }
      ]
    },
    {
      "cell_type": "code",
      "source": [
        "# Given two positive integers a and b, each less than 1000, calculate the integer corresponding to the square of the hypotenuse of the right triangle whose legs have lengths a and b."
      ],
      "metadata": {
        "id": "bBsT3GBcINkp"
      },
      "execution_count": 7,
      "outputs": []
    },
    {
      "cell_type": "code",
      "source": [
        "a, b = map(int, input(\"Enter two space-separated integers: \").split())"
      ],
      "metadata": {
        "colab": {
          "base_uri": "https://localhost:8080/"
        },
        "id": "FUOY5l_JH6wL",
        "outputId": "1978ef61-ea1c-4ce7-9239-2801a601ea49"
      },
      "execution_count": 8,
      "outputs": [
        {
          "name": "stdout",
          "output_type": "stream",
          "text": [
            "Enter two space-separated integers: 947 936\n"
          ]
        }
      ]
    },
    {
      "cell_type": "code",
      "source": [
        "result = a**2 + b**2"
      ],
      "metadata": {
        "id": "TTARYGzEH-vZ"
      },
      "execution_count": 9,
      "outputs": []
    },
    {
      "cell_type": "code",
      "source": [
        "print(result)"
      ],
      "metadata": {
        "colab": {
          "base_uri": "https://localhost:8080/"
        },
        "id": "_LnbKmHgICi5",
        "outputId": "4c3bdb82-bdd8-4423-e86c-413200b7ddf3"
      },
      "execution_count": 10,
      "outputs": [
        {
          "output_type": "stream",
          "name": "stdout",
          "text": [
            "1772905\n"
          ]
        }
      ]
    },
    {
      "cell_type": "code",
      "source": [
        "input (\"enter your name: \")\n",
        "print (\"Hello, \" + name)"
      ],
      "metadata": {
        "colab": {
          "base_uri": "https://localhost:8080/"
        },
        "id": "xdpFYgGTI6qB",
        "outputId": "6ee5204e-b6cf-4caf-92a6-c3283612607c"
      },
      "execution_count": 14,
      "outputs": [
        {
          "output_type": "stream",
          "name": "stdout",
          "text": [
            "enter your name: Taylor\n",
            "Hello, Taylor\n"
          ]
        }
      ]
    },
    {
      "cell_type": "code",
      "source": [
        "# Given two positive integers a and b, each less than 1000, calculate the integer corresponding to the square of the hypotenuse of the right triangle whose legs have lengths a and b."
      ],
      "metadata": {
        "id": "En7roPT3I89N"
      },
      "execution_count": 15,
      "outputs": []
    },
    {
      "cell_type": "code",
      "source": [
        "a, b = map(int, input(\"Enter two space-separated integers: \").split())"
      ],
      "metadata": {
        "colab": {
          "base_uri": "https://localhost:8080/"
        },
        "id": "o7jxvzTLJX7X",
        "outputId": "a1730421-9947-4462-839b-ee7194f40ef6"
      },
      "execution_count": 16,
      "outputs": [
        {
          "name": "stdout",
          "output_type": "stream",
          "text": [
            "Enter two space-separated integers: 947 936\n"
          ]
        }
      ]
    },
    {
      "cell_type": "code",
      "source": [
        "result = a**2 + b**2"
      ],
      "metadata": {
        "id": "wgQtzfCnJZ32"
      },
      "execution_count": 17,
      "outputs": []
    },
    {
      "cell_type": "code",
      "source": [
        "print(result)"
      ],
      "metadata": {
        "colab": {
          "base_uri": "https://localhost:8080/"
        },
        "id": "TtWKs3sIJbyo",
        "outputId": "7c9cc423-0c72-4fc3-bf9c-9ffb201abeda"
      },
      "execution_count": 18,
      "outputs": [
        {
          "output_type": "stream",
          "name": "stdout",
          "text": [
            "1772905\n"
          ]
        }
      ]
    },
    {
      "cell_type": "code",
      "source": [
        "# Create a list with 3 elements and then print the\n",
        "\n",
        "my_list = [\"Hello\", \"World\", \"Charles Darwin\"]\n",
        "print (my_list[1])"
      ],
      "metadata": {
        "colab": {
          "base_uri": "https://localhost:8080/"
        },
        "id": "Qu8HKOHxJgZV",
        "outputId": "0feeed48-d6a2-4bb6-b6e2-b6105a4fa383"
      },
      "execution_count": 19,
      "outputs": [
        {
          "output_type": "stream",
          "name": "stdout",
          "text": [
            "World\n"
          ]
        }
      ]
    },
    {
      "cell_type": "code",
      "source": [
        "# Substitute the item at index 2 in the list\n",
        "my_list[2] = \"Alfred R. Wallace\"\n",
        "print (my_list)"
      ],
      "metadata": {
        "colab": {
          "base_uri": "https://localhost:8080/"
        },
        "id": "WlTiSf3NJvtP",
        "outputId": "db05b96a-12a6-4191-8906-a6106252970e"
      },
      "execution_count": 20,
      "outputs": [
        {
          "output_type": "stream",
          "name": "stdout",
          "text": [
            "['Hello', 'World', 'Alfred R. Wallace']\n"
          ]
        }
      ]
    },
    {
      "cell_type": "code",
      "source": [
        "# Append an item to the end of the list\n",
        "my_list.append(\"Charles Darwin\")\n",
        "print (my_list)"
      ],
      "metadata": {
        "colab": {
          "base_uri": "https://localhost:8080/"
        },
        "id": "HBCP2OAqJ8Dp",
        "outputId": "bedec9c1-3a64-49c1-994f-229511e21910"
      },
      "execution_count": 21,
      "outputs": [
        {
          "output_type": "stream",
          "name": "stdout",
          "text": [
            "['Hello', 'World', 'Alfred R. Wallace', 'Charles Darwin']\n"
          ]
        }
      ]
    },
    {
      "cell_type": "code",
      "source": [
        "print (my_list[2:4])"
      ],
      "metadata": {
        "colab": {
          "base_uri": "https://localhost:8080/"
        },
        "id": "rDfTOqhDKKER",
        "outputId": "022ac2bb-8b29-4827-9d31-bb00cadad0e0"
      },
      "execution_count": 22,
      "outputs": [
        {
          "output_type": "stream",
          "name": "stdout",
          "text": [
            "['Alfred R. Wallace', 'Charles Darwin']\n"
          ]
        }
      ]
    },
    {
      "cell_type": "code",
      "source": [
        "my_string = \"HelloWorldCharlesDarwinAlfred R. Wallace\"\n",
        "print (my_string[0:5],my_string[5:10])"
      ],
      "metadata": {
        "colab": {
          "base_uri": "https://localhost:8080/"
        },
        "id": "SN7UA24-KTFM",
        "outputId": "28dff92f-75dc-439c-ba2d-027cd23105fd"
      },
      "execution_count": 23,
      "outputs": [
        {
          "output_type": "stream",
          "name": "stdout",
          "text": [
            "Hello World\n"
          ]
        }
      ]
    },
    {
      "cell_type": "code",
      "metadata": {
        "colab": {
          "base_uri": "https://localhost:8080/"
        },
        "id": "72690125",
        "outputId": "504ed2a9-fb5c-42d8-cd03-e5fe05a4eb72"
      },
      "source": [
        "print(my_string[32:40], my_string[5:10])"
      ],
      "execution_count": 43,
      "outputs": [
        {
          "output_type": "stream",
          "name": "stdout",
          "text": [
            " Wallace World\n"
          ]
        }
      ]
    },
    {
      "cell_type": "code",
      "source": [
        "# A string s of length at most 200 letters and four integers a,b, c and d. Calculate the slice of this string from indices a through b and c through d (with space in between), inclusively. In other words, we should include elements s[b] and s[d] in our slice."
      ],
      "metadata": {
        "id": "CPaEygyNLx-e"
      },
      "execution_count": 45,
      "outputs": []
    },
    {
      "cell_type": "code",
      "source": [
        "s = input().strip()"
      ],
      "metadata": {
        "colab": {
          "base_uri": "https://localhost:8080/"
        },
        "id": "Qt6BiHyEL_Ut",
        "outputId": "b10c6f0b-c71a-44d6-98f0-e7ad18bc6b37"
      },
      "execution_count": 46,
      "outputs": [
        {
          "name": "stdout",
          "output_type": "stream",
          "text": [
            "tjrGoTAU251WZgvl6ojNEQN0EirenisZPynqhArQGeefbSdlHo4Qs3zMmP8lzs0BuUpgkrltSgcPxMxkI7zFjYiLdS10eSMMIkTZNJKoHMNaw9TjlhUGEBeNsAIeElIMF4moUautOMNEldkTchTRGjRTKHaDkZgBWnOlgordoninGhJelEwBroTvD2JI7s9HMObuw8T. 24 30 164 170\n"
          ]
        }
      ]
    },
    {
      "cell_type": "code",
      "source": [
        "a, b, c, d = map(int, input().split())"
      ],
      "metadata": {
        "colab": {
          "base_uri": "https://localhost:8080/"
        },
        "id": "9IEcOgz-MBoI",
        "outputId": "c26e8667-5e99-4f8a-89a0-5315d41dcdb3"
      },
      "execution_count": 47,
      "outputs": [
        {
          "name": "stdout",
          "output_type": "stream",
          "text": [
            "24 30 164 170\n"
          ]
        }
      ]
    },
    {
      "cell_type": "code",
      "source": [
        "part1=s [a:b+1]\n",
        "part2=s [c:d+1]"
      ],
      "metadata": {
        "id": "iiTfOOspMCi6"
      },
      "execution_count": 48,
      "outputs": []
    },
    {
      "cell_type": "code",
      "source": [
        "print(part1, part2)"
      ],
      "metadata": {
        "colab": {
          "base_uri": "https://localhost:8080/"
        },
        "id": "AE8lBdOZMFv5",
        "outputId": "474703e1-7a03-475e-91d1-64b608672ae9"
      },
      "execution_count": 49,
      "outputs": [
        {
          "output_type": "stream",
          "name": "stdout",
          "text": [
            "Eirenis gordoni\n"
          ]
        }
      ]
    },
    {
      "cell_type": "code",
      "source": [
        "a=5\n",
        "b=5\n",
        "\n",
        "if a!=b:\n",
        "    print(a-b)\n",
        "\n",
        "else:\n",
        "    print(a+b)"
      ],
      "metadata": {
        "colab": {
          "base_uri": "https://localhost:8080/"
        },
        "id": "JHqGVf4HMqMt",
        "outputId": "c3e3f9c3-773f-471c-bbd2-78a5218dbef5"
      },
      "execution_count": 50,
      "outputs": [
        {
          "output_type": "stream",
          "name": "stdout",
          "text": [
            "10\n"
          ]
        }
      ]
    },
    {
      "cell_type": "code",
      "source": [
        "#initiate a counter\n",
        "a = 1\n",
        "\n",
        "#print \"Counting!\" while a,=3\n",
        "while a <= 3:\n",
        "\n",
        "    print (\"Counting!\" * a)\n",
        "    a += 1"
      ],
      "metadata": {
        "colab": {
          "base_uri": "https://localhost:8080/"
        },
        "id": "yGE1_HfCM2xn",
        "outputId": "0716ca93-69ee-4d29-dfe8-f14d76231648"
      },
      "execution_count": 52,
      "outputs": [
        {
          "output_type": "stream",
          "name": "stdout",
          "text": [
            "Counting!\n",
            "Counting!Counting!\n",
            "Counting!Counting!Counting!\n"
          ]
        }
      ]
    },
    {
      "cell_type": "code",
      "source": [
        "names = [\"Alice\",\"Bob\",\"Charley\"]\n",
        "\n",
        "for name in names:\n",
        "    print (\"Hello\", name)"
      ],
      "metadata": {
        "colab": {
          "base_uri": "https://localhost:8080/"
        },
        "id": "j1nCkwcpNIbz",
        "outputId": "e66beaef-f788-4c4d-ec6d-159c6d04d1d1"
      },
      "execution_count": 53,
      "outputs": [
        {
          "output_type": "stream",
          "name": "stdout",
          "text": [
            "Hello Alice\n",
            "Hello Bob\n",
            "Hello Charley\n"
          ]
        }
      ]
    },
    {
      "cell_type": "code",
      "source": [
        "# Create a variable to define the number of iterations\n",
        "iterations = 10\n",
        "\n",
        "#Print the current item's value each time through the loop\n",
        "for number in range(iterations):\n",
        "    print (number)"
      ],
      "metadata": {
        "colab": {
          "base_uri": "https://localhost:8080/"
        },
        "id": "pNzXQ_j8NrbI",
        "outputId": "d7bc3790-fdfe-40d2-88c5-b3a26732ebe1"
      },
      "execution_count": 57,
      "outputs": [
        {
          "output_type": "stream",
          "name": "stdout",
          "text": [
            "0\n",
            "1\n",
            "2\n",
            "3\n",
            "4\n",
            "5\n",
            "6\n",
            "7\n",
            "8\n",
            "9\n"
          ]
        }
      ]
    },
    {
      "cell_type": "code",
      "source": [
        "# Create a variable to define the number of iterations\n",
        "# This variable is no longer strictly defining iterations in the same way,\n",
        "# but the range function call below now controls the numbers printed.\n",
        "iterations = 10\n",
        "\n",
        "#Print the current item's value each time through the loop\n",
        "for number in range(9, 28, 3):\n",
        "    print (number)"
      ],
      "metadata": {
        "colab": {
          "base_uri": "https://localhost:8080/"
        },
        "id": "OPrxkMoNNUHh",
        "outputId": "c03cf29d-b413-41ae-9e14-a6d963c38ebb"
      },
      "execution_count": 58,
      "outputs": [
        {
          "output_type": "stream",
          "name": "stdout",
          "text": [
            "9\n",
            "12\n",
            "15\n",
            "18\n",
            "21\n",
            "24\n",
            "27\n"
          ]
        }
      ]
    },
    {
      "cell_type": "code",
      "source": [
        "# Given two positive integers and b (a < b < 10000). Calculate the sum of all odd integers from a through b, inclusively."
      ],
      "metadata": {
        "id": "12VzXWPGNf7_"
      },
      "execution_count": 60,
      "outputs": []
    },
    {
      "cell_type": "code",
      "source": [
        "a, b= map(int, input().split())"
      ],
      "metadata": {
        "colab": {
          "base_uri": "https://localhost:8080/"
        },
        "id": "cXlTLPbtOLYJ",
        "outputId": "f7e8c7e4-0238-41fd-f09a-68bacc57385d"
      },
      "execution_count": 61,
      "outputs": [
        {
          "name": "stdout",
          "output_type": "stream",
          "text": [
            "4000 8037\n"
          ]
        }
      ]
    },
    {
      "cell_type": "code",
      "source": [
        "from re import I\n",
        "total = 0 # Initialize total\n",
        "for i in range(a, b + 1):\n",
        "  if i % 2 == 1: # check if odd\n",
        "    total += i #"
      ],
      "metadata": {
        "id": "dEbC9A92ONVt"
      },
      "execution_count": 62,
      "outputs": []
    },
    {
      "cell_type": "code",
      "source": [
        "print(total)"
      ],
      "metadata": {
        "colab": {
          "base_uri": "https://localhost:8080/"
        },
        "id": "7aICkkGqOO9n",
        "outputId": "e634112f-d266-4d69-94aa-a8da6aa8c78c"
      },
      "execution_count": 63,
      "outputs": [
        {
          "output_type": "stream",
          "name": "stdout",
          "text": [
            "12152361\n"
          ]
        }
      ]
    },
    {
      "cell_type": "code",
      "source": [
        "with open(\"practice.txt\",\"r\") as data:\n",
        "\n",
        "    print(data.read())"
      ],
      "metadata": {
        "colab": {
          "base_uri": "https://localhost:8080/",
          "height": 196
        },
        "id": "PD49xxloPftT",
        "outputId": "e50510fc-05aa-475d-93d7-34489528ec58"
      },
      "execution_count": 67,
      "outputs": [
        {
          "output_type": "error",
          "ename": "FileNotFoundError",
          "evalue": "[Errno 2] No such file or directory: 'practice.txt'",
          "traceback": [
            "\u001b[0;31m---------------------------------------------------------------------------\u001b[0m",
            "\u001b[0;31mFileNotFoundError\u001b[0m                         Traceback (most recent call last)",
            "\u001b[0;32m/tmp/ipython-input-2385469503.py\u001b[0m in \u001b[0;36m<cell line: 0>\u001b[0;34m()\u001b[0m\n\u001b[0;32m----> 1\u001b[0;31m \u001b[0;32mwith\u001b[0m \u001b[0mopen\u001b[0m\u001b[0;34m(\u001b[0m\u001b[0;34m\"practice.txt\"\u001b[0m\u001b[0;34m,\u001b[0m\u001b[0;34m\"r\"\u001b[0m\u001b[0;34m)\u001b[0m \u001b[0;32mas\u001b[0m \u001b[0mdata\u001b[0m\u001b[0;34m:\u001b[0m\u001b[0;34m\u001b[0m\u001b[0;34m\u001b[0m\u001b[0m\n\u001b[0m\u001b[1;32m      2\u001b[0m \u001b[0;34m\u001b[0m\u001b[0m\n\u001b[1;32m      3\u001b[0m     \u001b[0mprint\u001b[0m\u001b[0;34m(\u001b[0m\u001b[0mdata\u001b[0m\u001b[0;34m.\u001b[0m\u001b[0mread\u001b[0m\u001b[0;34m(\u001b[0m\u001b[0;34m)\u001b[0m\u001b[0;34m)\u001b[0m\u001b[0;34m\u001b[0m\u001b[0;34m\u001b[0m\u001b[0m\n",
            "\u001b[0;31mFileNotFoundError\u001b[0m: [Errno 2] No such file or directory: 'practice.txt'"
          ]
        }
      ]
    },
    {
      "cell_type": "code",
      "source": [
        "with open(\"practice.txt\",\"r\") as data:\n",
        "    print(data.read())"
      ],
      "metadata": {
        "colab": {
          "base_uri": "https://localhost:8080/"
        },
        "id": "uS_kvlW3Qp1D",
        "outputId": "112c8e5c-d282-4987-d58b-18976ae864b5"
      },
      "execution_count": 72,
      "outputs": [
        {
          "output_type": "stream",
          "name": "stdout",
          "text": [
            "This is some practice text.\n"
          ]
        }
      ]
    },
    {
      "cell_type": "code",
      "source": [
        "with open(\"practice.txt\",\"r\") as data:\n",
        "\n",
        "  list_of_lines=data.readlines()\n",
        "\n",
        "print (list_of_lines)"
      ],
      "metadata": {
        "colab": {
          "base_uri": "https://localhost:8080/"
        },
        "id": "qScjEwqTQ0L9",
        "outputId": "4802d23d-e70e-4715-f247-f69d6387824d"
      },
      "execution_count": 73,
      "outputs": [
        {
          "output_type": "stream",
          "name": "stdout",
          "text": [
            "['This is some practice text.']\n"
          ]
        }
      ]
    },
    {
      "cell_type": "code",
      "source": [
        "with open(\"practice.txt\",\"r\") as data:\n",
        "\n",
        "  for line in data:\n",
        "    print (line)"
      ],
      "metadata": {
        "colab": {
          "base_uri": "https://localhost:8080/"
        },
        "id": "uGDlkmDCQ-hJ",
        "outputId": "b8139b93-1004-4768-abff-4d54cd3a5402"
      },
      "execution_count": 74,
      "outputs": [
        {
          "output_type": "stream",
          "name": "stdout",
          "text": [
            "This is some practice text.\n"
          ]
        }
      ]
    },
    {
      "cell_type": "code",
      "source": [
        "# Given a file containing at most 1000 lines. Calculate a file containing all the even-numbered lines from the original file. Assume 1-based numbering of lines."
      ],
      "metadata": {
        "id": "cdPMD-fWRI6d"
      },
      "execution_count": 76,
      "outputs": []
    },
    {
      "cell_type": "code",
      "source": [
        "# write the sample dataset to a file\n",
        "with open(\"input.txt\", \"w\") as f:\n",
        "  f.write(\"\"\"`Twas brillig, and the slithy toves\n",
        "Some things in life are bad, they can really make you mad\n",
        "  Did gyre and gimble in the wabe:\n",
        "Other things just make you swear and curse\n",
        "All mimsy were the borogoves,\n",
        "When you're chewing on life's gristle, don't grumble give a whistle\n",
        "  And the mome raths outgrabe.\n",
        "This will help things turn out for the best\n",
        "\"Beware the Jabberwock, my son!\n",
        "Always look on the bright side of life\n",
        "  The jaws that bite, the claws that catch!\n",
        "Always look on the right side of life\n",
        "Beware the Jubjub bird, and shun\n",
        "If life seems jolly rotten, there's something you've forgotten\n",
        "  The frumious Bandersnatch!\"\n",
        "And that's to laugh and smile and dance and sing\n",
        "He took his vorpal sword in hand:\n",
        "When you're feeling in the dumps, don't be silly, chumps\n",
        "  Long time the manxome foe he sought --\n",
        "Just purse your lips and whistle, that's the thing\n",
        "So rested he by the Tumtum tree,\n",
        "So, always look on the bright side of death\n",
        "  And stood awhile in thought.\n",
        "Just before you draw your terminal breath\n",
        "And, as in uffish thought he stood,\n",
        "Life's a counterfeit and when you look at it\n",
        "  The Jabberwock, with eyes of flame,\n",
        "Life's a laugh and death's the joke, it's true\n",
        "Came whiffling through the tulgey wood,\n",
        "You see, it's all a show, keep them laughing as you go\n",
        "  And burbled as it came!\n",
        "Just remember the last laugh is on you\n",
        "One, two! One, two! And through and through\n",
        "Always look on the bright side of life\n",
        "  The vorpal blade went snicker-snack!\n",
        "And always look on the right side of life\n",
        "He left it dead, and with its head\n",
        "Always look on the bright side of life\n",
        "  He went galumphing back.\n",
        "And always look on the right side of life\"\"\")"
      ],
      "metadata": {
        "id": "LsC3bSV1RhF_"
      },
      "execution_count": 77,
      "outputs": []
    },
    {
      "cell_type": "code",
      "source": [
        "# now read it and print even-numbered lines\n",
        "with open(\"input.txt\", \"r\") as f:\n",
        "  for i, line in enumerate(f, start=1):\n",
        "    if i % 2 == 0:   # even-numbered lines\n",
        "      print(line.strip())"
      ],
      "metadata": {
        "colab": {
          "base_uri": "https://localhost:8080/"
        },
        "id": "K1rN8GsmRjnO",
        "outputId": "3b0863a0-1a11-4114-f13a-213bdb40a895"
      },
      "execution_count": 78,
      "outputs": [
        {
          "output_type": "stream",
          "name": "stdout",
          "text": [
            "Some things in life are bad, they can really make you mad\n",
            "Other things just make you swear and curse\n",
            "When you're chewing on life's gristle, don't grumble give a whistle\n",
            "This will help things turn out for the best\n",
            "Always look on the bright side of life\n",
            "Always look on the right side of life\n",
            "If life seems jolly rotten, there's something you've forgotten\n",
            "And that's to laugh and smile and dance and sing\n",
            "When you're feeling in the dumps, don't be silly, chumps\n",
            "Just purse your lips and whistle, that's the thing\n",
            "So, always look on the bright side of death\n",
            "Just before you draw your terminal breath\n",
            "Life's a counterfeit and when you look at it\n",
            "Life's a laugh and death's the joke, it's true\n",
            "You see, it's all a show, keep them laughing as you go\n",
            "Just remember the last laugh is on you\n",
            "Always look on the bright side of life\n",
            "And always look on the right side of life\n",
            "Always look on the bright side of life\n",
            "And always look on the right side of life\n"
          ]
        }
      ]
    },
    {
      "cell_type": "code",
      "metadata": {
        "id": "73a49b5f"
      },
      "source": [
        "# Create a dummy file named practice_5.txt\n",
        "with open(\"practice_5.txt\", \"w\") as f:\n",
        "    f.write(\"This is some practice text for file 5.\")"
      ],
      "execution_count": 82,
      "outputs": []
    },
    {
      "cell_type": "code",
      "metadata": {
        "colab": {
          "base_uri": "https://localhost:8080/"
        },
        "id": "c69b8351",
        "outputId": "5bbed721-f154-4c27-cf16-01f8eec4aaca"
      },
      "source": [
        "with open(\"practice_5.txt\",\"r\") as data:\n",
        "    line=data.read()\n",
        "\n",
        "for word in line.split():\n",
        "    print(word)"
      ],
      "execution_count": 83,
      "outputs": [
        {
          "output_type": "stream",
          "name": "stdout",
          "text": [
            "This\n",
            "is\n",
            "some\n",
            "practice\n",
            "text\n",
            "for\n",
            "file\n",
            "5.\n"
          ]
        }
      ]
    },
    {
      "cell_type": "code",
      "source": [
        "#!/usr/bin/python3\n",
        "\n",
        "sequences = {\n",
        "    \"H.neandertalensis\":\"ACGTCGCTCTGCTA\",\n",
        "    \"H.sapiens\":\"ACGTCACTCTGCTA\"\n",
        "    }\n",
        "\n",
        "print (sequences)"
      ],
      "metadata": {
        "colab": {
          "base_uri": "https://localhost:8080/"
        },
        "id": "XEWa41qwSKLa",
        "outputId": "47659922-e4b6-4ee3-b5a0-06fca1e07d48"
      },
      "execution_count": 85,
      "outputs": [
        {
          "output_type": "stream",
          "name": "stdout",
          "text": [
            "{'H.neandertalensis': 'ACGTCGCTCTGCTA', 'H.sapiens': 'ACGTCACTCTGCTA'}\n"
          ]
        }
      ]
    },
    {
      "cell_type": "code",
      "source": [
        "# Given a string s of length at most 10000 letters. Calculate the number of occurrences of each word in s, where words are separated by spaces. Words are case-sensitive, and the lines in the output can be in any order."
      ],
      "metadata": {
        "id": "qZ3MdLC0Slhv"
      },
      "execution_count": 89,
      "outputs": []
    },
    {
      "cell_type": "code",
      "source": [
        "# open input file (sample dataset provided)\n",
        "with open(\"input.txt\", \"w\") as f:\n",
        "  f.write(\":When I find myself in times of trouble Mother Mary comes to me Speaking words of wisdom let it be And in my hour of darkness she is standing right in front of me Speaking words of wisdom let it be Let it be let it be let it be let it be Whisper words of wisdom let it be And when the broken hearted people living in the world agree There will be an answer let it be For though they may be parted there is still a chance that they will see There will be an answer let it be Let it be let it be let it be let it be There will be an answer let it be Let it be let it be let it be let it be Whisper words of wisdom let it be Let it be let it be let it be let it be Whisper words of wisdom let it be And when the night is cloudy there is still a light that shines on me Shine until tomorrow let it be I wake up to the sound of music Mother Mary comes to me Speaking words of wisdom let it be Let it be let it be let it be yeah let it be There will be an answer let it be Let it be let it be let it be yeah let it be Whisper words of wisdom let it be\")"
      ],
      "metadata": {
        "id": "HP3YCDj7UFvR"
      },
      "execution_count": 90,
      "outputs": []
    },
    {
      "cell_type": "code",
      "source": [
        "# read the text\n",
        "with open(\"input.txt\", \"r\") as f:\n",
        "  text = f.read().strip()"
      ],
      "metadata": {
        "id": "5knRbtqXUKhD"
      },
      "execution_count": 91,
      "outputs": []
    },
    {
      "cell_type": "code",
      "source": [
        "# split string into words\n",
        "words = text.split(' ')"
      ],
      "metadata": {
        "id": "Fh38EkqvUONm"
      },
      "execution_count": 92,
      "outputs": []
    },
    {
      "cell_type": "code",
      "source": [
        "# create empty dictionary\n",
        "d = {}"
      ],
      "metadata": {
        "id": "AoyALllTUQHu"
      },
      "execution_count": 93,
      "outputs": []
    },
    {
      "cell_type": "code",
      "source": [
        "# count word occurrences\n",
        "for word in words:\n",
        "  if word in d:\n",
        "    d[word] += 1\n",
        "  else:\n",
        "    d[word] = 1"
      ],
      "metadata": {
        "id": "zOCjwahgUSS3"
      },
      "execution_count": 94,
      "outputs": []
    },
    {
      "cell_type": "code",
      "source": [
        "# write output to file\n",
        "with open(\"output.txt\", \"w\") as f:\n",
        "  for key, value in d.items():\n",
        "    f.write(f\"{key} {value}\\n\")"
      ],
      "metadata": {
        "id": "hwW4nCscUUCS"
      },
      "execution_count": 95,
      "outputs": []
    },
    {
      "cell_type": "code",
      "source": [
        "# also print to screen\n",
        "with open(\"output.txt\", \"r\") as f:\n",
        "  print(f.read())"
      ],
      "metadata": {
        "colab": {
          "base_uri": "https://localhost:8080/"
        },
        "id": "wwJXnTfvUW8i",
        "outputId": "42c5677a-a26e-4f71-aaf6-372fa285be72"
      },
      "execution_count": 96,
      "outputs": [
        {
          "output_type": "stream",
          "name": "stdout",
          "text": [
            ":When 1\n",
            "I 2\n",
            "find 1\n",
            "myself 1\n",
            "in 4\n",
            "times 1\n",
            "of 11\n",
            "trouble 1\n",
            "Mother 2\n",
            "Mary 2\n",
            "comes 2\n",
            "to 3\n",
            "me 4\n",
            "Speaking 3\n",
            "words 7\n",
            "wisdom 7\n",
            "let 30\n",
            "it 36\n",
            "be 41\n",
            "And 3\n",
            "my 1\n",
            "hour 1\n",
            "darkness 1\n",
            "she 1\n",
            "is 4\n",
            "standing 1\n",
            "right 1\n",
            "front 1\n",
            "Let 6\n",
            "Whisper 4\n",
            "when 2\n",
            "the 4\n",
            "broken 1\n",
            "hearted 1\n",
            "people 1\n",
            "living 1\n",
            "world 1\n",
            "agree 1\n",
            "There 4\n",
            "will 5\n",
            "an 4\n",
            "answer 4\n",
            "For 1\n",
            "though 1\n",
            "they 2\n",
            "may 1\n",
            "parted 1\n",
            "there 2\n",
            "still 2\n",
            "a 2\n",
            "chance 1\n",
            "that 2\n",
            "see 1\n",
            "night 1\n",
            "cloudy 1\n",
            "light 1\n",
            "shines 1\n",
            "on 1\n",
            "Shine 1\n",
            "until 1\n",
            "tomorrow 1\n",
            "wake 1\n",
            "up 1\n",
            "sound 1\n",
            "music 1\n",
            "yeah 2\n",
            "\n"
          ]
        }
      ]
    },
    {
      "cell_type": "code",
      "source": [
        "# Given a DNA string s of length at most 1000 nt. Calculate four integers (separated by spaces) counting the respective number of times that the symbols 'A', 'C', 'G', and 'T' occur in s."
      ],
      "metadata": {
        "id": "pGXt4jjLUqsH"
      },
      "execution_count": 98,
      "outputs": []
    },
    {
      "cell_type": "code",
      "source": [
        "# sample dataset\n",
        "s=\"GGCAGGGGCAGTCTACGCTACACAGTGTCTTTGACAGAATGACCTTCCTGCGGTGGTCAGTAGAAATTACCAAAGAGAGCAACCGTTGACGAGTAGCTCAGAGATAAACAGCCAACCCATGAGGAGGTTGCTTCGTTTGGCACGACTGTTCCCAGGGATCAGGAATTTCGAACTATGACCAACAACTCTGCGATGGGTACAGGCAAGAGTCCCCGAATCCTTTTAGTATCATGCTGAGAGGACCCGCCGTGTGCACCAATGGGCACCTTTACGAGATCTTAGTCGGTCACCCACACGGCAGCTATTTTACCCATAAAATACGTTGTAGTCTTAATAACCGAACCGGGGACAAGGAGAAGCAGATCGGCCGAGTCGACACCCGACATAAAAGCGTATAAGAACCGAACTCCGTTTCTCCCGAATCCTCGAGGTACATGGAATTCATGGGACAAGATGATGAGTAGACCTCAACCAAGCTGTTGCGTGAAGGTCCTCAAACTAAAGACGTGATACTTGGGGACTATGGGCCTAACTCGACATATAACAGGAAACGATACCTACTCCACTGGTTAAAGGATCGGTCTCGGAGATAGCAAAGCTTTAGCTTCGCCAGTGAGCAGGTGACTGCGCACAAACTTTTTTAAGATCCGGTGAATAAGCAATCAATACAAATGTTATGGCAAACGGATTAGTGCCCATACCACAAATTATGGAAGCAGACCATAGCCTTCGTACTGGGTATCTCTGCGACATAGATTCTCGACGCCATGTGGACCGTAAGTAGTGTCCGACTGCTGCCGGTGATATTTAAAATACGCTGTACGCAAATTATTAAGATAACACGTGTAGTCCTGCTTCAGATCAACGATTTGACGGGATGCTTAAAAGCAGTGTCGTAACCGATGTCGTAGAGACGTAGAGGCTGGCATGCAGCGATGGCCCATGTTCCCTAATGAAATACTACAAACACAAGTAACGGAAGTAGTAACGGCAAT\""
      ],
      "metadata": {
        "id": "2lbjEbw8U9gs"
      },
      "execution_count": 99,
      "outputs": []
    },
    {
      "cell_type": "code",
      "source": [
        "# count nucleotides\n",
        "a = s.count(\"A\")\n",
        "c = s.count(\"C\")\n",
        "g = s.count(\"G\")\n",
        "t = s.count(\"T\")"
      ],
      "metadata": {
        "id": "qsnkqxXfVO0h"
      },
      "execution_count": 103,
      "outputs": []
    },
    {
      "cell_type": "code",
      "source": [
        "# print result\n",
        "print(a, c, g, t)"
      ],
      "metadata": {
        "colab": {
          "base_uri": "https://localhost:8080/"
        },
        "id": "DRxpzs7JVA0r",
        "outputId": "d5d5bd52-84db-4337-91cb-56b8548a9461"
      },
      "execution_count": 104,
      "outputs": [
        {
          "output_type": "stream",
          "name": "stdout",
          "text": [
            "298 230 243 224\n"
          ]
        }
      ]
    },
    {
      "cell_type": "code",
      "source": [
        "!pip install biopython"
      ],
      "metadata": {
        "colab": {
          "base_uri": "https://localhost:8080/"
        },
        "id": "UIXhirHtV9sf",
        "outputId": "90e30b71-4c61-43ff-88c1-76b0354fd687"
      },
      "execution_count": 105,
      "outputs": [
        {
          "output_type": "stream",
          "name": "stdout",
          "text": [
            "Collecting biopython\n",
            "  Downloading biopython-1.85-cp312-cp312-manylinux_2_17_x86_64.manylinux2014_x86_64.whl.metadata (13 kB)\n",
            "Requirement already satisfied: numpy in /usr/local/lib/python3.12/dist-packages (from biopython) (2.0.2)\n",
            "Downloading biopython-1.85-cp312-cp312-manylinux_2_17_x86_64.manylinux2014_x86_64.whl (3.3 MB)\n",
            "\u001b[?25l   \u001b[90m━━━━━━━━━━━━━━━━━━━━━━━━━━━━━━━━━━━━━━━━\u001b[0m \u001b[32m0.0/3.3 MB\u001b[0m \u001b[31m?\u001b[0m eta \u001b[36m-:--:--\u001b[0m\r\u001b[2K   \u001b[91m━━━━━━━━━━━━━━\u001b[0m\u001b[90m╺\u001b[0m\u001b[90m━━━━━━━━━━━━━━━━━━━━━━━━━\u001b[0m \u001b[32m1.1/3.3 MB\u001b[0m \u001b[31m34.3 MB/s\u001b[0m eta \u001b[36m0:00:01\u001b[0m\r\u001b[2K   \u001b[91m━━━━━━━━━━━━━━━━━━━━━━━━━━━━━━━━━━━━━━━\u001b[0m\u001b[91m╸\u001b[0m \u001b[32m3.3/3.3 MB\u001b[0m \u001b[31m66.6 MB/s\u001b[0m eta \u001b[36m0:00:01\u001b[0m\r\u001b[2K   \u001b[90m━━━━━━━━━━━━━━━━━━━━━━━━━━━━━━━━━━━━━━━━\u001b[0m \u001b[32m3.3/3.3 MB\u001b[0m \u001b[31m43.4 MB/s\u001b[0m eta \u001b[36m0:00:00\u001b[0m\n",
            "\u001b[?25hInstalling collected packages: biopython\n",
            "Successfully installed biopython-1.85\n"
          ]
        }
      ]
    },
    {
      "cell_type": "code",
      "metadata": {
        "colab": {
          "base_uri": "https://localhost:8080/"
        },
        "id": "baf57ac7",
        "outputId": "fe28315a-dcb7-481f-c468-bb8dee1488ef"
      },
      "source": [
        "try:\n",
        "    import Bio\n",
        "    print(\"Biopython imported successfully!\")\n",
        "except ImportError:\n",
        "    print(\"Biopython not installed correctly.\")"
      ],
      "execution_count": 106,
      "outputs": [
        {
          "output_type": "stream",
          "name": "stdout",
          "text": [
            "Biopython imported successfully!\n"
          ]
        }
      ]
    },
    {
      "cell_type": "code",
      "source": [
        "from Bio.Seq import Seq\n",
        "\n",
        "my_sequence = Seq(\"GATGGAACTTGACTACGTAAATT\")\n",
        "\n",
        "print(my_sequence.complement())"
      ],
      "metadata": {
        "colab": {
          "base_uri": "https://localhost:8080/"
        },
        "id": "1QKGRJJuWTU0",
        "outputId": "8ec82955-31b0-406d-ea0f-d71d5b462d27"
      },
      "execution_count": 109,
      "outputs": [
        {
          "output_type": "stream",
          "name": "stdout",
          "text": [
            "CTACCTTGAACTGATGCATTTAA\n"
          ]
        }
      ]
    },
    {
      "cell_type": "code",
      "source": [
        "# Given a DNA string t having length of at most 1000 nt. Calculate the transcribed RNA string of t."
      ],
      "metadata": {
        "id": "okrkNVfXWrst"
      },
      "execution_count": 111,
      "outputs": []
    },
    {
      "cell_type": "code",
      "source": [
        "# sample dataset\n",
        "t = \"CGACAGCACGCTATGCATTGCTGCACAAGATGGCACACCAATCGTCCTGGTATCTATGAGATCAAGAATGTAGTGAAACCTTATTCGTAATCATGCCATTTTGTGATGGCATTGCGGGAAGAACGGCAAGGGGCCCTCTACTTTTGCTTTGAAAAAATCCTTCGTTACTTCGCATGACGGAAATTCGGTTTTAAGTCCTACGCGCGTACAGAGTACATAAATGATCGAGAAGATCCCTGCCAGATTATCTCCAGCGGATCTGCCAATGATATCGGCTCACGATAGAGCACGGATTAGTATTCCAGTTTTGGCGCCCGTTTAGAACCCCGATTCTAGTGACTCCAACCCGCATGTATGTCAATCGAGATTGCGGGGGCACTTCGAAAGGGGAAATTTACACCAGTAGTTATACGTCCGACGTGATCAATACAGAGCCTACGTTGTACGTTAGACATATTAGTACCGAATCACAAACGGGCAAGTCGACCGAACCCCCTTGACTGTTGGATGATGGGCACCCTAGCGTTCGGGTACGATAGTCACCCAACGGATGAGCAAATATACGGCGGGTAGACGAGATCCAAAGCGGTAGAGCTACACGCTAAGTGTCCGGGCCGGCCCGGCATGAAGTTCAGGATAAGGCCCTTCAAACTAAGGGCTAGCGCGTAGGAAACGATGCAACGCGTAAGATCCGGTCTATGAAAAGGTCGGTGTCAAGGAAATGATCGTTCCAAACACGTTCGTGCCATTGACGCCGAACACGGCAAATGCTCGCACCAGAAATGATTAGCTATGGCTTAGCTCCCAAAGATCAGGTCGAACACAACCCGGTCCTCACTGCTCAGTTCATGACCGAGAACGATAGTCACCAGAACCGGGTTGGCAATGCACAACCTTCTCCTGAAGCTGCGACACCTACGTTATTAGCCACTATAGCGTGGTGAGGGGGAAGACACAA\""
      ],
      "metadata": {
        "id": "iSSb0z42W58H"
      },
      "execution_count": 112,
      "outputs": []
    },
    {
      "cell_type": "code",
      "source": [
        "# transcribe DNA -> RNA\n",
        "u= t.replace(\"T\", \"U\")"
      ],
      "metadata": {
        "id": "vsBJC9BsW8ch"
      },
      "execution_count": 113,
      "outputs": []
    },
    {
      "cell_type": "code",
      "source": [
        "# print result\n",
        "print(u)"
      ],
      "metadata": {
        "colab": {
          "base_uri": "https://localhost:8080/"
        },
        "id": "RNcvPhu5W-In",
        "outputId": "2a38107f-37d2-4d21-d3a4-d24f44a9a1fa"
      },
      "execution_count": 114,
      "outputs": [
        {
          "output_type": "stream",
          "name": "stdout",
          "text": [
            "CGACAGCACGCUAUGCAUUGCUGCACAAGAUGGCACACCAAUCGUCCUGGUAUCUAUGAGAUCAAGAAUGUAGUGAAACCUUAUUCGUAAUCAUGCCAUUUUGUGAUGGCAUUGCGGGAAGAACGGCAAGGGGCCCUCUACUUUUGCUUUGAAAAAAUCCUUCGUUACUUCGCAUGACGGAAAUUCGGUUUUAAGUCCUACGCGCGUACAGAGUACAUAAAUGAUCGAGAAGAUCCCUGCCAGAUUAUCUCCAGCGGAUCUGCCAAUGAUAUCGGCUCACGAUAGAGCACGGAUUAGUAUUCCAGUUUUGGCGCCCGUUUAGAACCCCGAUUCUAGUGACUCCAACCCGCAUGUAUGUCAAUCGAGAUUGCGGGGGCACUUCGAAAGGGGAAAUUUACACCAGUAGUUAUACGUCCGACGUGAUCAAUACAGAGCCUACGUUGUACGUUAGACAUAUUAGUACCGAAUCACAAACGGGCAAGUCGACCGAACCCCCUUGACUGUUGGAUGAUGGGCACCCUAGCGUUCGGGUACGAUAGUCACCCAACGGAUGAGCAAAUAUACGGCGGGUAGACGAGAUCCAAAGCGGUAGAGCUACACGCUAAGUGUCCGGGCCGGCCCGGCAUGAAGUUCAGGAUAAGGCCCUUCAAACUAAGGGCUAGCGCGUAGGAAACGAUGCAACGCGUAAGAUCCGGUCUAUGAAAAGGUCGGUGUCAAGGAAAUGAUCGUUCCAAACACGUUCGUGCCAUUGACGCCGAACACGGCAAAUGCUCGCACCAGAAAUGAUUAGCUAUGGCUUAGCUCCCAAAGAUCAGGUCGAACACAACCCGGUCCUCACUGCUCAGUUCAUGACCGAGAACGAUAGUCACCAGAACCGGGUUGGCAAUGCACAACCUUCUCCUGAAGCUGCGACACCUACGUUAUUAGCCACUAUAGCGUGGUGAGGGGGAAGACACAA\n"
          ]
        }
      ]
    },
    {
      "cell_type": "code",
      "source": [
        "# Given an RNA string s correspondng to a strand of mRNA (of length at most 10 kbp). Calculate the protein string encoded by s."
      ],
      "metadata": {
        "id": "S8-tpi9fXEgs"
      },
      "execution_count": 116,
      "outputs": []
    },
    {
      "cell_type": "code",
      "source": [
        "# RNA codon table\n",
        "codon_table = {\n",
        "    'UUU':'F', 'UUC':'F', 'UUA':'L', 'UUG':'L',\n",
        "    'UCU':'S', 'UCC':'S', 'UCA':'S', 'UCG':'S',\n",
        "    'UAU':'Y', 'UAC':'Y', 'UAA':'Stop', 'UAG':'Stop',\n",
        "    'UGU':'C', 'UGC':'C', 'UGA':'Stop', 'UGG':'W',\n",
        "    'CUU':'L', 'CUC':'L', 'CUA':'L', 'CUG':'L',\n",
        "    'CCU':'P', 'CCC':'P', 'CCA':'P', 'CCG':'P',\n",
        "    'CAU':'H', 'CAC':'H', 'CAA':'Q', 'CAG':'Q',\n",
        "    'CGU':'R', 'CGC':'R', 'CGA':'R', 'CGG':'R',\n",
        "    'AUU':'I', 'AUC':'I', 'AUA':'I', 'AUG':'M',\n",
        "    'ACU':'T', 'ACC':'T', 'ACA':'T', 'ACG':'T',\n",
        "    'AAU':'N', 'AAC':'N', 'AAA':'K', 'AAG':'K',\n",
        "    'AGU':'S', 'AGC':'S', 'AGA':'R', 'AGG':'R',\n",
        "    'GUU':'V', 'GUC':'V', 'GUA':'V', 'GUG':'V',\n",
        "    'GCU':'A', 'GCC':'A', 'GCA':'A', 'GCG':'A',\n",
        "    'GAU':'D', 'GAC':'D', 'GAA':'E', 'GAG':'E',\n",
        "    'GGU':'G', 'GGC':'G', 'GGA':'G', 'GGG':'G'\n",
        "}"
      ],
      "metadata": {
        "id": "eMqcq8WpXqVa"
      },
      "execution_count": 120,
      "outputs": []
    },
    {
      "cell_type": "code",
      "source": [
        "# sample dataset\n",
        "rna = \"AUGGCUGCAACGACCAAACAAGCAUGCCUAGAACGCACCAGCAAAAUAAGUGCCGCCGUUGGGCUGGGGAUUAGAGCUUCGUCGGGAAUCGCCAUCGACCUGGUGAACAUCUCGAUUUGGCCUCUCCCCUUGAUAGUCGAUCCGCAGACGUCUUCGUCAAGUCUUCAUCGCGAAAGAUCUUGCAAUACAGUAUUUCUAAUUGAGAUUACGGCACUCAUUUGGGAAUCCCGCCGGUGCGGAGACGUCGAUUUCCGUAGAAACCAUCAGAUUACGUUCCGAAAUCGGUAUGCCGUAUGGGUGCCUAACCCUCGAACUAUAAGAACGGCCACUGUUUCCGGAUGCUUAGGAGACAGCGAGCUCCAUCACGUUGACACACGAAGUCUCGGAAUCGGCUGUGAAAGUCAGGCUCUGCAUCGAGAGGCAUGGACCAAGCUUAAAGUGGACGUGCCGGACUUGCAAGACCGUCAGUAUUGGGUCAGGUGUUAUGUAAGAGCCGCCGGCUUGGAGAACCGCGCGACAUUGCAAUGUCGUGACCGGUCGCUGAUCGAUUCAACCCGAAUGUGGGGUCCCAGCGGUGACUCUGUUCGAAAUCGAGAGCUAUGGCCCUAUAUUGAGACUAGGACACAGUGCGUGCUCAUACGCCUGCAGGGUUUUACAACCGAUAAUGCAAAACCAUUGAGGUCGUUAAUCGUAAGUCUAAUGGCUCACAGAUGCCGUUGGAGAUAUAAUGAAAAUGCCUCCAGUUAUCGGGAUUGUCUUUCCUCCCUUGUUUGCAGCGCCAGCUGGCCACUGUUGCGUAUCAACGCGGAGCGACCAACGAGCCUACAUGGCGGAUGCAUUGUCGCGUUCCCCAGGUUUAAUAUGACCUGUACCACGACGCGUGACACCGAACUCUGGAGUGUUGACGCCUAUCCUUUCCAGGCGCAAAACGUGGCUGGGGUAAAGUUUUGGUUGACAAGCCGUUCUUUAUUGCUGGGUACACCAAUAAUCUCUUCAGCCAUACUAGCCAGCGCCGGGCACGUACACGACUCCCGCAUUGAAUGGCUCAAUGGGGCUGGCGAUGUUCCAAAGAGCCUAAAAUUUUGGUGCCCAAGUCGCUGGCAACAUCCCGUACCGCCGCCACACUGGCAGGAGACGCACCAGCCCAGCCUUCUUGUCCCCCUAGGGGUCGGUGUAUCGUGUAACCUGUGUAGGAUGCCCCGUUCUACCUCAAUUGCGUUUAAUGGACCCACCACCCCAAAGGCUUCUGGCAAACGCCCAAGUAGUUGGUGCCGGGCUCUAACAUCUUUGCAUAGCGGAAACACCGAGGGAUACGUCUCUCGCCGAUUCGGCGAGUAUCAAUCCACUAGGCCAAUAUACUUGGGAGGGGUCAGUGAGACUGUGUACAAUACUCUAGCAUAUAAGCAAAAUCAAAAUGCCGUGCUAGGACAUCCUCGCAAGACUCUUAGAUCACCAACAAGAGAAGUCAUCGUCGGAUUAUCCGGUAUGGCAUACCAUCAUAGUAGGCAGAUCACGGAACUGGAUAAGGUAAGGCAUGUGAGGUUCACUGGCGUCAUUGGAAAAUGCGAGGUGGGCGAUCUGUCCACGGUCCCCUCUGUAGCGGCGAGCUGGGAUCCGAAUGAUUUCGGUACUACCUUACCUUCGCGUGCGGACCUCGGUUCCCGAUGUAUGCCAUCUAACACCAAAGCUAUCAACCGCAAAGGAAGUGCAUUCGAGUCAGAAGGCGCGCAGCCUUUUUCGGAUUGGAAUCGUGCCGACCAUAGAGUUAACAGAGUAGCGGGUCCAUUCUUCUUAUGUUGGCUUUGGCCACCAAUAGAAGCAACCGCUAGGUUAAACAUUGUCUAUGAGGGUACUCGCACCCAUCAGUUGUCGCGGCUGAGAAGGGAAAGGCUGCGUAUAAAUGUUGACUGGCUACAGGGCAUUAAUUGGUGGCGAUGUGCUAAUAAUAGACUUGGCUAUAGAAAUUGUGUUCUGGGGGUCGAACGGGCGAGAAAUCUUUCUAAUCAAGAUCUAAAACACACUGGGGUCUCACGCAACGCCAGACAUUGCGACCCCUCAAACCGAUUAUUUCUACCUACAGGACAAUCCUUUUACACAAUACCAUAUGGGGUUAAUUUAUGGUUCACCAGACAAUGUGGCGAUGAGAUGCUUUUUUAUAUGGGAUCGGCACCAGCCACGCCCCCAUUCCGGCUUAAGCGUAACUGCGUGAAGACUCAUCCCAUAGGUACUUCUAAGGAGGCUCUACGUACCACCCUUUACUCUACCCAUACUGAUUACUCGAGAGUCACUGGGGUUGUGCAUUACAUGUUUGUCAAAGAGCAACGGGUGUUUCGGUGGCUUAACAACAACUGUCGGGCCUCGAGAAUAGGCACCAUAGCGGUCUCUAAACAUCCUCCGUCAGUUCUGACGGAGAUCAGAUCUCACAUGGCGCCGAUCGCUGACGUUCGAUCCGCGAUGCUCCGCCGGGUGCGAAGACUCCCAAAGGUGGUCCGGGCACAAUUAUACCAUGCGUUAACCAAUUUUACCUAUAUAAAGGAAUCGCAGGGUUCCGGCCAGUCCGACCUAAUUCCUGCGUCGGACUUCGUCCUUUGCACAACAGGCUUUGAAUCGUCAGUGAUGACCUCCGCCUGUGAAAGCCCACCAGCCAACGCGGAAGCAAACACGAGGGGUGUUUCGGCAUUCGAAGUCGGGGCGGAUUUCGAUCUAGCGUCACUAUUUAAUAUCCACCAUAACAGGAUACCAGGUAGUCUAGGGAGUUUAUCCAAACUAGAAUCCGGGGAAUUACCCAGGCUAGUCUCCUUCGACUACUGCCCGGGAGACCUCCUGGCUUACCCACCGCGGUACCACAAAUCUAAGAGUUCGGAGAUUGCGUUUAGAGCCGGAGUGUGGGGAAGCCCCCGCGUCUACGUCCUGCUGGAUUCGCAGCUCAGGUGCGGGCUAUUUACCCUCCAUGAAUCGUCUAGCGUCCACCCAUGGCUACGUCCUGCUAAUCAGACAGCUUUACGGGUUAAACCCUAUUACGAUCAUAAUGUUUCGCGUUGCAAAAGCGUCCGAGUGUUAGAAAAAUGUCCAACUUUCCAAAGAACGUAUAUUGUUGGAAUAGCCACUCGAGAUCCAUUGAGGCUGAUGAUUAAUGCGUCAGCACCUCCAAAGAUUCCAAAACCUUAUAGAGAGCGUAACAUCAUUUCCACUUCAUUGAGAAAUCUACCCCAUUCCCACUAUCGGCAGUCAUCCAUAGAGACGAUGUUCGCCCGAAUUUUCCCGCGGCCCCGUAUUAUUAAUCUUAAAGGUGCGCAAGCAGUAAGGCAACUACGCGCGCUUAAUAGAACCGACCGUAAUCUUGUUACAUCGGGGCGCGAUCCCGUAUUGCCCGUCGUGGGCUCGUUAGACGACACGUGGCGUGUCCCCUUCGAUGGUCUCUAUUUUUCAUGGACUCCCCAUUCUUCGCCCUUUGCAUCCCGAAUGAGUGCAGUGGACCGUGCUGGAUCGGCCGCAAAAGUCCGACUGUUUAGCAGUCUCGAGAUUUGCAUUAUAUGUGUUGCGUGUGUUUUGGCAACCCUGAGAAGAGCACUCAAGUGCUUCAUGGGCUGCUUACGGGGUGAAAAGCAAGCUACCACCCUUGCCCAAAGAAACAGGGCGUUGCCUAGCGGCCUAAAUCACGAGAUCGCUGAAAACGUAAUUACUGUAGUAGCCCUAAUACAGCGUAGCAUGGGUAAACAAAAACUGAAAUGUGAUUGGCCAGACUGCAUGCGCAAGCCGUGCGCACCUCUAUCCUUGCCACAGUGCUACGAAGCAUGCCGGGUGGAGGAACAAGGAGAAAUGCAUUGGGGCGCUCCAGAUGAGGACAUCGACCGCACAUUUUUAUGGGAGCUGGUGCCAAAAGUCGUGACGUGGAGUUCCAGAAAAAUUGCCAAGGCCAUUACGUGGUUAACUUCGCUCUUGACCAUAGGGGAUGUACCAGAUAAGUUGGCUCUCACUGUGGGCGAAUCGGGCGAGGUCGACCCCCGAGAAUACAGUAUUGCCCGGGGUUCCCAUAUCUCUCGGGGAACCCCAGUUACUGUGGUAGGGGACAUAGGCAACAUGCUGGGUACUCAGCCAGCCGCAACCCCGGGUCUUUCUUCGGGUUGUUUACUUCACCAGUACAUUAAUACCAGGCUAAACUUGUCCGCGGACGGGGACGGAGUCAAGUAUAUUUUAGGCGUCUUUCUGGGAGGGGAGGGACGUCCUACGGCACAGGAGUGCAGCAUAUUUGCGGCCCCGCCUGGAUCUCAUCAAAAUCCUCACCUCUCACAAAGCUUUGGCUUAAUCGAGUGCUGCUCUCAUUUUGUUUCACUACGUCAACCUCUCAACCACGGGACUCCUGUCGCCUGUGCCUUUGCUCGUCGGAUAAUGAAAUCGCCAAAACAGUGGCAAAACUCUGAAGGGAGGUUAAGUCAAAUUAAGCACCCAUGUUCGUCCCAAGUGGAAAACUCCAGACUACGGGUACUCUUUGUGAGAUCGCCUAUAUUAAAUCAUGCCCUCUCGAUCCCUAUACUGGUACAAUCAGUGUGUGUGACACCGCGUUCGCGCGACAGAUGGGUGGACGCUGUUUCCAGCCAAAAUCAUAGGGUCAAGUCAGCGGGUAUAGACGGUAAAGAGCAAUCACGCGCGAUUGGUAGGACUAGGUGUGCGUCAAACAGUAUACUCAGAAUGAGCACUAAAUAUGUGACACGGAUGGGCAUUGGUGCUUCAACCGCUCCCUGUAUGCGGGAACCUAGCACGUUUAGAUGCUUCUUCGGAUCGGUGCGUGCGAUUUCACAAACACAGGGGCAGGUAUAUCCCCAAUCAACUAGCGUACGUCCGAUCCCUGUAGGACCGAUGAACCUUGGUAUAUCGCGACAUAUAGCGAAACACUGUCCACAUCUGGGGCCUGUCGGCCGUACUACAUGCCUGUCUUACAAUCGAAGUCAUUCAAUAUCCGCUAAACUAUCGGCAGCCUGGCUCUUCCUUAUUCGGUCAAAAGCAGCCGGACACUAUUUCCCAGCAAUAUACCGGGCUUUAGCUAUAUGGUCCUCGAUUCCACAUACAGUUGUCCCCCUACUCGAGGAUGGGAUUUCGUGGUCGUCUGUACUUGAAAGAGCACAUCACUGCACUCUACGGCCCUUGCCUUUGAUUUUAUACGCUGGUGGCCCUCGGGAAAACCUCCAGCUCUCGAAUUUACGUGUCUACACUGUUCGACUGCAACAUACCUUGCUUGAAAUGAGUCUUAUCGCUAAGGUCAAAUCGGGAGUCAAUCAAUUUUGGAGUGUCUGUAUAACGUAUUAUAGUGAGGUCCAAAAUUUCUUCCAUCUGCUCCUUGCACUAAUCGAGAGGGCCCGACCAGAGUCUUGCAACCCGGAUUCCUUCGGCUCAGAAGAUUCAUGCGAUUCUUCAGUUGGGUUCGUGGUCCUAAAUUUGGCCAAGGGCCGGAUGUCUGGCGAGGGAGUAGCAUAUCGUAGACCUACAGUCGAAGCCCUUGUAGGCGGAUUAGGGUGGACCUUCGAUCCAUGUUCCGUCAAGGCAUGCCUCUCACAGACGACUGUAAUAGGCAGGGAAAUUUUAAUUGUACUGGAAUGGAAAUUUGGGGUCCGAAAACUUUCUGGAAAAAUAGAGCCAUGUCAAGACAAGGCUGCUGUCUGGGCUAACGUGGUAGCCCGGUCUGGGCGGCAACUCUUAUGUUGUAUUUGUCGAUGGAUUAUUGCUAGGCGUCAAUAUUCAAGUGUUCGCCGGAUGCCGUCGCCCCUCCAAUUUUCGUCAGUGGUUGUGCGUGCUAGGUACGGGAGAGAUUACGAGUUACAGGACUCCUUUAGUAGGCUGCAGGUGUUAUCAUCAAGGCAUCCGGUUUUCUGGGCCUGGUGCCAAAUUAACAAUGUGAUGUCACUGCGCGAUCGGCGGCGUAUUACAUGGAGUACCGGCCAUGUACCCGAUUUCGCCUGUUUGGGUCGAUGGAGUUAUGUAAACCCAGUUGGUCUAAGGGGGACGCGUGACCAAUGCUACCUGGGGGCGCGCUUCAACCGAGGUACAUCGUUAAGUCGGGUCCCUGCCGUGGCCAUCCCGACCAACCUAGGCAAUAGCCCUGCCUACCGCAAAAUCGAGGUUAAGUUUAAGACGAUCGCGAUGCGUAGUGCGGCCAAGUCUUACCCCCCGGGGCCGUCUUGGACCUCGUCCGUGAUCCGCGGUGAUAGCCGUUAUGAAGGUGAUUUUAGCAAGCGCCGGAGGGACUUAUACAGUAUUUGUAGACACUAUAUCUACAUAAAUUUGAUGACCAGGCAAAUUUCGUCGUACCAUAUUUUGGACAUAUCUCGAAAGGGUUGGACUAAACCCGAGUUAAUGCCAGCAGAGGAUCUCGAGUUGAGCAUCCAUAAUUGCACUAGCCUUCGGUCCCACCAUUCGAGAAUAUUAGGCUUCCGACAUGGGUAUUUUGGAAAAGCCGAACUCCACCCCCGAAUGAUUCCAAGGGUAAGACCCUUGAUCGCUCCGUACGAUGGUUUACCUCCCCCCCAUAAGUCGUGGAAGCUAUACGUAAGGCCUUCCGAUCCCUUCCAAAUCUCUGGCGGAUAUAGGACUACUUUAACCCAAGUCUUUACAUCUACUCGCGCGGUCGGAUAUAUACUGGGUGAAGGGUACCCAGCAGUGCCCCAAACAAAUGUAUCGGGACGCUGCGCAACCGCGAUGCAGUAUCCUAAUGAGUUAAGUGACUCAGACCUACUGGGGCCGGUCAGUCAGAGGGAGCUCACCCAUUAUAAUACACUGCAGGCUUUAAAACCCCCGUUCCCUGAAAUUAGCGCGAAGUUCAUACGAAGGACGACAGUGACUUCUUAUAUAUGUUGGGGACCUGAAACCACUUUUGCCGAUAACUCUUUACUGACGACUAGUGAGGCCCAAACUCGCAACUUAUGUUCGACAACAGCGAGAACAGAUUCUAAUGCUGUGUAUACUUCGAGCGGUUUCAAGUUCCCACCUACAAAACUCUCGCCGCAGGCCCACAACACUUUAUUAGACUACGGAAUAUUCCAAGUCGCUCCACUCUGCUUGCAUGAGUUUCGCAAAGCAUUUGUGAUUGGGGCUGUGGCAAGCCCAACUACUAUCCGUGUGCCGUCUACGACAUCUUCGUCACACUUCAGCACACGUGUAAUCUGUGGUACAGAUUGCCAGGACGCCUGCCUAUGGUUCACUAUAUUGCCUGCGCUAUUUUUUCGAAUGGACGACGGUGUGAGAGACGGCUGCGGAAUACCUAUCCGCGACAAGAUUCGGGUCUAUAGCAUGACGGCUUAUCAAGACCUCAUGUUGUGUACUAGCCGCCCAGCGGGCCCUAAGAUCCUGCAUAGGAUGAUGUCGCGGGAGGCCUUCCUGUGUACCCAUCGCCCUGUACGUUAUCUUCCCAAUCUCGUUAAGAGUCAGUCCACGUUAAAACUCGAACCAAUACAGAGGGUCUGGCGAUGGACACUUUCUGAUGUCAUUAUAAGCGGAAUGAUUAGCGCCAGGUCGCACGAGGGGUGGAUUAUUCCGAUCUCGGCUAAAGAACAGCAGUGGUUCCAGAUGAAACCCGUCCGCGUCCCUUCCCGCAAUACAUAUAGUCGUGCCGCAAGUAAAGUCAGAACUGGCGAAGCGCGCGCGCUAUGUUGGCAGCUUCGUAGUGGCGCUUUGUUUGACUCACGGGUUGGAGCACUGAACGCCCUAUCUCGUUUGUCGCGCGUGAGUAACUUACUAACCACUUACUACGCUAUUAUGGAUCGUGGGAGGGACGUGAAAUGGUUUAUCGAGCCGUCUCUCCGAAUAAAUUUCGACUGUCCGUCACAGUUCAGUUACGAGACACGGCAUUCAUGUCGGUCCUCGCGGGACUCCUCACAUUUGCCGGAUGAAAUGCAACUCGAACGAAUCUCCGCCGAGUCCGUGAAGCCGUGGCGGCCGAAAGAACCAUAUACAGUAUCGUCCUUCAGCACACUCUUAUCGGCGCAUAUGACCGCGGUGCCGGAUCAUCUUGCGGAAGGAGCAGAAACAUACACUGGACUGAGAUACAAUUCACUGGCUGACCAAUCCACUACGCCUCAACCAUACGACGAUAGCUACGACGCGUUUCCAGCUUCACUAUCCCGACAGGGCAGUUAUUCUUGCGAGAAGGCGCACGCUAUCGCUUGCAGCGGCCGCAUGCAAUCGCACGGAAAACUUAAGCUAUUACAUAAACGUGAUUUAUACCUUGUGAUUAUUCGUUACGGAGCCCUACAUUUCUUUAAUUCCUCGGCAAAUGCGACGAUACUAUCGGCGACUCGGCGUUCACCAUUCCCGAUCACAACCCUAGAGUCUGGUGUUGUCUCCGAUGGAUCAUGUGCGAAAGAGAUCCAAGGAGCCAUUUGUCGGGCCCAAUUGUUAGAGGGCCGCCACAGCACUACUGGACUUUGUCGUAUCCGAACGCCGCGUAUUGACUCAUCUGAUACGAAUGAGGGCCGCUGGCAUAAUUCAUUAUUUCUAGUGGUUCCUCUUGGGAACCUGACACCAACCCACCUAUCACGUUUACUACAACUCCAAGCUUCCGGGGGACUUUUCUCACGCACUACCCAGGCCAGCCAUUGCUCAUACUCUUAUUAUCCAACUUGCUCGUCAGACGUCAAAGAAAUUAUGGCCCCUGACAUCACACUGUCGUUCGGGUACGUGGCGUUUCAUGCUAUGCUGAGGAUACACACCAACAGUAAGGCACGUCGUCCCUGGCAGACCCCGAACCAUCUAGCGCAUCCCAUCACUUCGGUCGUUAAGCACUUAACUUUACUUUCUAGAAAGCCCUGGAUUCAGCGGAGGACCACCCGUUCUAUGCCAGCUUGUUCUCAGGAGCCUGCGCAGGCGUGUUCAGGAGAAUCCAAAAAGGGAUUUGGUUGUGCUUUCUACAGCGACUCACUGAUCGAAGUCUGUCCGGACCCGUGUGAAACAUUGAAGGGAUUGACUCCUCAAGUAUACCUCGUCAUCGUGACCCAGAUAACGUGGGCGCCGAAGGAAAGUAACGAAAUUGCAGUUGUAUACAAUGCCCCUGCUAGGCGAGCUUCGCCAAUAAUUGAACGGCGACGAAUGGGCAACGCGGUGUUUGGUACGAAUACUACACUGACUGCCAUGUACAAUGCAGACAGCGACGUUCCAAGCAUUGCUACAAAAGAGUGGAAUAUUCUUUUGUAG\"\n",
        "\n",
        "protein = \"\"\n",
        "for i in range(0, len(rna), 3):\n",
        "    codon = rna[i:i+3]\n",
        "    amino_acid = codon_table.get(codon, '')\n",
        "    if amino_acid == 'Stop':\n",
        "        break\n",
        "    protein += amino_acid\n",
        "\n",
        "print(protein)"
      ],
      "metadata": {
        "colab": {
          "base_uri": "https://localhost:8080/"
        },
        "id": "VO872FkMXsbS",
        "outputId": "38b4e049-f74a-43fc-d11c-41c8b4675dae"
      },
      "execution_count": 121,
      "outputs": [
        {
          "output_type": "stream",
          "name": "stdout",
          "text": [
            "MAATTKQACLERTSKISAAVGLGIRASSGIAIDLVNISIWPLPLIVDPQTSSSSLHRERSCNTVFLIEITALIWESRRCGDVDFRRNHQITFRNRYAVWVPNPRTIRTATVSGCLGDSELHHVDTRSLGIGCESQALHREAWTKLKVDVPDLQDRQYWVRCYVRAAGLENRATLQCRDRSLIDSTRMWGPSGDSVRNRELWPYIETRTQCVLIRLQGFTTDNAKPLRSLIVSLMAHRCRWRYNENASSYRDCLSSLVCSASWPLLRINAERPTSLHGGCIVAFPRFNMTCTTTRDTELWSVDAYPFQAQNVAGVKFWLTSRSLLLGTPIISSAILASAGHVHDSRIEWLNGAGDVPKSLKFWCPSRWQHPVPPPHWQETHQPSLLVPLGVGVSCNLCRMPRSTSIAFNGPTTPKASGKRPSSWCRALTSLHSGNTEGYVSRRFGEYQSTRPIYLGGVSETVYNTLAYKQNQNAVLGHPRKTLRSPTREVIVGLSGMAYHHSRQITELDKVRHVRFTGVIGKCEVGDLSTVPSVAASWDPNDFGTTLPSRADLGSRCMPSNTKAINRKGSAFESEGAQPFSDWNRADHRVNRVAGPFFLCWLWPPIEATARLNIVYEGTRTHQLSRLRRERLRINVDWLQGINWWRCANNRLGYRNCVLGVERARNLSNQDLKHTGVSRNARHCDPSNRLFLPTGQSFYTIPYGVNLWFTRQCGDEMLFYMGSAPATPPFRLKRNCVKTHPIGTSKEALRTTLYSTHTDYSRVTGVVHYMFVKEQRVFRWLNNNCRASRIGTIAVSKHPPSVLTEIRSHMAPIADVRSAMLRRVRRLPKVVRAQLYHALTNFTYIKESQGSGQSDLIPASDFVLCTTGFESSVMTSACESPPANAEANTRGVSAFEVGADFDLASLFNIHHNRIPGSLGSLSKLESGELPRLVSFDYCPGDLLAYPPRYHKSKSSEIAFRAGVWGSPRVYVLLDSQLRCGLFTLHESSSVHPWLRPANQTALRVKPYYDHNVSRCKSVRVLEKCPTFQRTYIVGIATRDPLRLMINASAPPKIPKPYRERNIISTSLRNLPHSHYRQSSIETMFARIFPRPRIINLKGAQAVRQLRALNRTDRNLVTSGRDPVLPVVGSLDDTWRVPFDGLYFSWTPHSSPFASRMSAVDRAGSAAKVRLFSSLEICIICVACVLATLRRALKCFMGCLRGEKQATTLAQRNRALPSGLNHEIAENVITVVALIQRSMGKQKLKCDWPDCMRKPCAPLSLPQCYEACRVEEQGEMHWGAPDEDIDRTFLWELVPKVVTWSSRKIAKAITWLTSLLTIGDVPDKLALTVGESGEVDPREYSIARGSHISRGTPVTVVGDIGNMLGTQPAATPGLSSGCLLHQYINTRLNLSADGDGVKYILGVFLGGEGRPTAQECSIFAAPPGSHQNPHLSQSFGLIECCSHFVSLRQPLNHGTPVACAFARRIMKSPKQWQNSEGRLSQIKHPCSSQVENSRLRVLFVRSPILNHALSIPILVQSVCVTPRSRDRWVDAVSSQNHRVKSAGIDGKEQSRAIGRTRCASNSILRMSTKYVTRMGIGASTAPCMREPSTFRCFFGSVRAISQTQGQVYPQSTSVRPIPVGPMNLGISRHIAKHCPHLGPVGRTTCLSYNRSHSISAKLSAAWLFLIRSKAAGHYFPAIYRALAIWSSIPHTVVPLLEDGISWSSVLERAHHCTLRPLPLILYAGGPRENLQLSNLRVYTVRLQHTLLEMSLIAKVKSGVNQFWSVCITYYSEVQNFFHLLLALIERARPESCNPDSFGSEDSCDSSVGFVVLNLAKGRMSGEGVAYRRPTVEALVGGLGWTFDPCSVKACLSQTTVIGREILIVLEWKFGVRKLSGKIEPCQDKAAVWANVVARSGRQLLCCICRWIIARRQYSSVRRMPSPLQFSSVVVRARYGRDYELQDSFSRLQVLSSRHPVFWAWCQINNVMSLRDRRRITWSTGHVPDFACLGRWSYVNPVGLRGTRDQCYLGARFNRGTSLSRVPAVAIPTNLGNSPAYRKIEVKFKTIAMRSAAKSYPPGPSWTSSVIRGDSRYEGDFSKRRRDLYSICRHYIYINLMTRQISSYHILDISRKGWTKPELMPAEDLELSIHNCTSLRSHHSRILGFRHGYFGKAELHPRMIPRVRPLIAPYDGLPPPHKSWKLYVRPSDPFQISGGYRTTLTQVFTSTRAVGYILGEGYPAVPQTNVSGRCATAMQYPNELSDSDLLGPVSQRELTHYNTLQALKPPFPEISAKFIRRTTVTSYICWGPETTFADNSLLTTSEAQTRNLCSTTARTDSNAVYTSSGFKFPPTKLSPQAHNTLLDYGIFQVAPLCLHEFRKAFVIGAVASPTTIRVPSTTSSSHFSTRVICGTDCQDACLWFTILPALFFRMDDGVRDGCGIPIRDKIRVYSMTAYQDLMLCTSRPAGPKILHRMMSREAFLCTHRPVRYLPNLVKSQSTLKLEPIQRVWRWTLSDVIISGMISARSHEGWIIPISAKEQQWFQMKPVRVPSRNTYSRAASKVRTGEARALCWQLRSGALFDSRVGALNALSRLSRVSNLLTTYYAIMDRGRDVKWFIEPSLRINFDCPSQFSYETRHSCRSSRDSSHLPDEMQLERISAESVKPWRPKEPYTVSSFSTLLSAHMTAVPDHLAEGAETYTGLRYNSLADQSTTPQPYDDSYDAFPASLSRQGSYSCEKAHAIACSGRMQSHGKLKLLHKRDLYLVIIRYGALHFFNSSANATILSATRRSPFPITTLESGVVSDGSCAKEIQGAICRAQLLEGRHSTTGLCRIRTPRIDSSDTNEGRWHNSLFLVVPLGNLTPTHLSRLLQLQASGGLFSRTTQASHCSYSYYPTCSSDVKEIMAPDITLSFGYVAFHAMLRIHTNSKARRPWQTPNHLAHPITSVVKHLTLLSRKPWIQRRTTRSMPACSQEPAQACSGESKKGFGCAFYSDSLIEVCPDPCETLKGLTPQVYLVIVTQITWAPKESNEIAVVYNAPARRASPIIERRRMGNAVFGTNTTLTAMYNADSDVPSIATKEWNILL\n"
          ]
        }
      ]
    }
  ]
}